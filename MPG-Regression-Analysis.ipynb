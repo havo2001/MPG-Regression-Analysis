{
  "nbformat": 4,
  "nbformat_minor": 0,
  "metadata": {
    "colab": {
      "provenance": []
    },
    "kernelspec": {
      "name": "python3",
      "display_name": "Python 3"
    },
    "language_info": {
      "name": "python"
    },
    "widgets": {
      "application/vnd.jupyter.widget-state+json": {
        "f5ada8efe03244288944c9c3aebaf644": {
          "model_module": "@jupyter-widgets/controls",
          "model_name": "HBoxModel",
          "model_module_version": "1.5.0",
          "state": {
            "_dom_classes": [],
            "_model_module": "@jupyter-widgets/controls",
            "_model_module_version": "1.5.0",
            "_model_name": "HBoxModel",
            "_view_count": null,
            "_view_module": "@jupyter-widgets/controls",
            "_view_module_version": "1.5.0",
            "_view_name": "HBoxView",
            "box_style": "",
            "children": [
              "IPY_MODEL_73fe1feb18db4558b6ba5312cb9ea719",
              "IPY_MODEL_85de4dc8b8f84a13a764bdfbe3906d94",
              "IPY_MODEL_675df70a91b04c5a831585ee34fa9280"
            ],
            "layout": "IPY_MODEL_928fbe2ab4444cf386c748ab08aa6e57"
          }
        },
        "73fe1feb18db4558b6ba5312cb9ea719": {
          "model_module": "@jupyter-widgets/controls",
          "model_name": "HTMLModel",
          "model_module_version": "1.5.0",
          "state": {
            "_dom_classes": [],
            "_model_module": "@jupyter-widgets/controls",
            "_model_module_version": "1.5.0",
            "_model_name": "HTMLModel",
            "_view_count": null,
            "_view_module": "@jupyter-widgets/controls",
            "_view_module_version": "1.5.0",
            "_view_name": "HTMLView",
            "description": "",
            "description_tooltip": null,
            "layout": "IPY_MODEL_4d60683216714515b3f8d8b7b1a75780",
            "placeholder": "​",
            "style": "IPY_MODEL_bd2ccd826f6949c1ad1324799a537f5a",
            "value": "Loop...: 100%"
          }
        },
        "85de4dc8b8f84a13a764bdfbe3906d94": {
          "model_module": "@jupyter-widgets/controls",
          "model_name": "FloatProgressModel",
          "model_module_version": "1.5.0",
          "state": {
            "_dom_classes": [],
            "_model_module": "@jupyter-widgets/controls",
            "_model_module_version": "1.5.0",
            "_model_name": "FloatProgressModel",
            "_view_count": null,
            "_view_module": "@jupyter-widgets/controls",
            "_view_module_version": "1.5.0",
            "_view_name": "ProgressView",
            "bar_style": "success",
            "description": "",
            "description_tooltip": null,
            "layout": "IPY_MODEL_d05b68798723417a8ad84715e614d2bf",
            "max": 6,
            "min": 0,
            "orientation": "horizontal",
            "style": "IPY_MODEL_704a832fbe9e4f6084563154d9998d1d",
            "value": 6
          }
        },
        "675df70a91b04c5a831585ee34fa9280": {
          "model_module": "@jupyter-widgets/controls",
          "model_name": "HTMLModel",
          "model_module_version": "1.5.0",
          "state": {
            "_dom_classes": [],
            "_model_module": "@jupyter-widgets/controls",
            "_model_module_version": "1.5.0",
            "_model_name": "HTMLModel",
            "_view_count": null,
            "_view_module": "@jupyter-widgets/controls",
            "_view_module_version": "1.5.0",
            "_view_name": "HTMLView",
            "description": "",
            "description_tooltip": null,
            "layout": "IPY_MODEL_1a68a6cc4dd54ae8ad1e7cca7f426f0c",
            "placeholder": "​",
            "style": "IPY_MODEL_c5c85400fcef47afa9a814fd5acefb4f",
            "value": " 6/6 [00:00&lt;00:00, 23.24it/s]"
          }
        },
        "928fbe2ab4444cf386c748ab08aa6e57": {
          "model_module": "@jupyter-widgets/base",
          "model_name": "LayoutModel",
          "model_module_version": "1.2.0",
          "state": {
            "_model_module": "@jupyter-widgets/base",
            "_model_module_version": "1.2.0",
            "_model_name": "LayoutModel",
            "_view_count": null,
            "_view_module": "@jupyter-widgets/base",
            "_view_module_version": "1.2.0",
            "_view_name": "LayoutView",
            "align_content": null,
            "align_items": null,
            "align_self": null,
            "border": null,
            "bottom": null,
            "display": null,
            "flex": null,
            "flex_flow": null,
            "grid_area": null,
            "grid_auto_columns": null,
            "grid_auto_flow": null,
            "grid_auto_rows": null,
            "grid_column": null,
            "grid_gap": null,
            "grid_row": null,
            "grid_template_areas": null,
            "grid_template_columns": null,
            "grid_template_rows": null,
            "height": null,
            "justify_content": null,
            "justify_items": null,
            "left": null,
            "margin": null,
            "max_height": null,
            "max_width": null,
            "min_height": null,
            "min_width": null,
            "object_fit": null,
            "object_position": null,
            "order": null,
            "overflow": null,
            "overflow_x": null,
            "overflow_y": null,
            "padding": null,
            "right": null,
            "top": null,
            "visibility": null,
            "width": null
          }
        },
        "4d60683216714515b3f8d8b7b1a75780": {
          "model_module": "@jupyter-widgets/base",
          "model_name": "LayoutModel",
          "model_module_version": "1.2.0",
          "state": {
            "_model_module": "@jupyter-widgets/base",
            "_model_module_version": "1.2.0",
            "_model_name": "LayoutModel",
            "_view_count": null,
            "_view_module": "@jupyter-widgets/base",
            "_view_module_version": "1.2.0",
            "_view_name": "LayoutView",
            "align_content": null,
            "align_items": null,
            "align_self": null,
            "border": null,
            "bottom": null,
            "display": null,
            "flex": null,
            "flex_flow": null,
            "grid_area": null,
            "grid_auto_columns": null,
            "grid_auto_flow": null,
            "grid_auto_rows": null,
            "grid_column": null,
            "grid_gap": null,
            "grid_row": null,
            "grid_template_areas": null,
            "grid_template_columns": null,
            "grid_template_rows": null,
            "height": null,
            "justify_content": null,
            "justify_items": null,
            "left": null,
            "margin": null,
            "max_height": null,
            "max_width": null,
            "min_height": null,
            "min_width": null,
            "object_fit": null,
            "object_position": null,
            "order": null,
            "overflow": null,
            "overflow_x": null,
            "overflow_y": null,
            "padding": null,
            "right": null,
            "top": null,
            "visibility": null,
            "width": null
          }
        },
        "bd2ccd826f6949c1ad1324799a537f5a": {
          "model_module": "@jupyter-widgets/controls",
          "model_name": "DescriptionStyleModel",
          "model_module_version": "1.5.0",
          "state": {
            "_model_module": "@jupyter-widgets/controls",
            "_model_module_version": "1.5.0",
            "_model_name": "DescriptionStyleModel",
            "_view_count": null,
            "_view_module": "@jupyter-widgets/base",
            "_view_module_version": "1.2.0",
            "_view_name": "StyleView",
            "description_width": ""
          }
        },
        "d05b68798723417a8ad84715e614d2bf": {
          "model_module": "@jupyter-widgets/base",
          "model_name": "LayoutModel",
          "model_module_version": "1.2.0",
          "state": {
            "_model_module": "@jupyter-widgets/base",
            "_model_module_version": "1.2.0",
            "_model_name": "LayoutModel",
            "_view_count": null,
            "_view_module": "@jupyter-widgets/base",
            "_view_module_version": "1.2.0",
            "_view_name": "LayoutView",
            "align_content": null,
            "align_items": null,
            "align_self": null,
            "border": null,
            "bottom": null,
            "display": null,
            "flex": null,
            "flex_flow": null,
            "grid_area": null,
            "grid_auto_columns": null,
            "grid_auto_flow": null,
            "grid_auto_rows": null,
            "grid_column": null,
            "grid_gap": null,
            "grid_row": null,
            "grid_template_areas": null,
            "grid_template_columns": null,
            "grid_template_rows": null,
            "height": null,
            "justify_content": null,
            "justify_items": null,
            "left": null,
            "margin": null,
            "max_height": null,
            "max_width": null,
            "min_height": null,
            "min_width": null,
            "object_fit": null,
            "object_position": null,
            "order": null,
            "overflow": null,
            "overflow_x": null,
            "overflow_y": null,
            "padding": null,
            "right": null,
            "top": null,
            "visibility": null,
            "width": null
          }
        },
        "704a832fbe9e4f6084563154d9998d1d": {
          "model_module": "@jupyter-widgets/controls",
          "model_name": "ProgressStyleModel",
          "model_module_version": "1.5.0",
          "state": {
            "_model_module": "@jupyter-widgets/controls",
            "_model_module_version": "1.5.0",
            "_model_name": "ProgressStyleModel",
            "_view_count": null,
            "_view_module": "@jupyter-widgets/base",
            "_view_module_version": "1.2.0",
            "_view_name": "StyleView",
            "bar_color": null,
            "description_width": ""
          }
        },
        "1a68a6cc4dd54ae8ad1e7cca7f426f0c": {
          "model_module": "@jupyter-widgets/base",
          "model_name": "LayoutModel",
          "model_module_version": "1.2.0",
          "state": {
            "_model_module": "@jupyter-widgets/base",
            "_model_module_version": "1.2.0",
            "_model_name": "LayoutModel",
            "_view_count": null,
            "_view_module": "@jupyter-widgets/base",
            "_view_module_version": "1.2.0",
            "_view_name": "LayoutView",
            "align_content": null,
            "align_items": null,
            "align_self": null,
            "border": null,
            "bottom": null,
            "display": null,
            "flex": null,
            "flex_flow": null,
            "grid_area": null,
            "grid_auto_columns": null,
            "grid_auto_flow": null,
            "grid_auto_rows": null,
            "grid_column": null,
            "grid_gap": null,
            "grid_row": null,
            "grid_template_areas": null,
            "grid_template_columns": null,
            "grid_template_rows": null,
            "height": null,
            "justify_content": null,
            "justify_items": null,
            "left": null,
            "margin": null,
            "max_height": null,
            "max_width": null,
            "min_height": null,
            "min_width": null,
            "object_fit": null,
            "object_position": null,
            "order": null,
            "overflow": null,
            "overflow_x": null,
            "overflow_y": null,
            "padding": null,
            "right": null,
            "top": null,
            "visibility": null,
            "width": null
          }
        },
        "c5c85400fcef47afa9a814fd5acefb4f": {
          "model_module": "@jupyter-widgets/controls",
          "model_name": "DescriptionStyleModel",
          "model_module_version": "1.5.0",
          "state": {
            "_model_module": "@jupyter-widgets/controls",
            "_model_module_version": "1.5.0",
            "_model_name": "DescriptionStyleModel",
            "_view_count": null,
            "_view_module": "@jupyter-widgets/base",
            "_view_module_version": "1.2.0",
            "_view_name": "StyleView",
            "description_width": ""
          }
        }
      }
    }
  },
  "cells": [
    {
      "cell_type": "markdown",
      "source": [
        "#**HOMEWORK 3: REGRESSION AND BAYESIAN STATISTICS**\n",
        "\n",
        "\n",
        "\n",
        "\n"
      ],
      "metadata": {
        "id": "u8Ly0TgcxJHT"
      }
    },
    {
      "cell_type": "markdown",
      "source": [
        "## **Problem 1: Regression**\n",
        "Teenager Morty is a big fan of cars. Unlike other boys of his age, he’s keen on cars with high mileage per \n",
        "gallon (MPG) – Morty regularly dreams about long journeys through Mid-West flatlands. Unfortunately, \n",
        "not all automotive producers publish accurate data on this very important parameter. To remedy the \n",
        "situation, he asked his uncle Rick to help him in predicting actual MPG from other known properties of a \n",
        "car.\n",
        "\n",
        ">\n",
        "\n",
        "\n",
        "They decided to use a Car MPG dataset (sometimes referred to as Auto MPG dataset, some description \n",
        "is available [here](https://archive.ics.uci.edu/ml/datasets/auto+mpg)). File with data was kindly shared by Rick (see carmpg_dataset.csv in the \n",
        "attachment). Let’s help Rick and Morty with their analysis."
      ],
      "metadata": {
        "id": "Y5EaXsM1yCLa"
      }
    },
    {
      "cell_type": "markdown",
      "source": [
        "### **1. ** \n",
        "Investigate multicollinearity in the original dataset. Compute Pearson’s correlation\n",
        "coefficient between pairs of features and plot obtained covariance matrix.\n",
        "> \n",
        "a. Which features are the most correlated?\n",
        ">\n",
        "b. Based on the covariance matrix, which features can be selected without loss in \n",
        "predictive ability? In other words, which set of covariates seems to contain most of the \n",
        "useful information and does not contain duplicated (or very similar) features?"
      ],
      "metadata": {
        "id": "Ec1z6fa53prf"
      }
    },
    {
      "cell_type": "markdown",
      "source": [
        "#### **Reading the data**"
      ],
      "metadata": {
        "id": "ILMJuQiY3N5T"
      }
    },
    {
      "cell_type": "code",
      "source": [
        "import numpy as np\n",
        "import pandas as pd\n",
        "\n",
        "import matplotlib.pyplot as plt\n",
        "import seaborn as sns\n",
        "\n",
        "import scipy.stats as sts\n",
        "\n",
        "%matplotlib inline"
      ],
      "metadata": {
        "id": "Kp_MKGUcykp0"
      },
      "execution_count": null,
      "outputs": []
    },
    {
      "cell_type": "code",
      "source": [
        "dataset = pd.read_csv('carmpg_dataset.csv')"
      ],
      "metadata": {
        "id": "u6IERiC_zRdc"
      },
      "execution_count": null,
      "outputs": []
    },
    {
      "cell_type": "code",
      "source": [
        "dataset"
      ],
      "metadata": {
        "colab": {
          "base_uri": "https://localhost:8080/",
          "height": 423
        },
        "id": "uSFPazPOzZgQ",
        "outputId": "7bd4888a-5793-41e4-a25e-927781e68a3f"
      },
      "execution_count": null,
      "outputs": [
        {
          "output_type": "execute_result",
          "data": {
            "text/plain": [
              "      mpg  cylinders  displacement  horsepower  weight  acceleration  \\\n",
              "0     8.0          8         307.0       130.0    3504          12.0   \n",
              "1    15.0          8         350.0       165.0    3693          11.5   \n",
              "2    18.0          8         318.0       150.0    3436          11.0   \n",
              "3    16.0          8         304.0       150.0    3433          12.0   \n",
              "4    17.0          8         302.0       140.0    3449          10.5   \n",
              "..    ...        ...           ...         ...     ...           ...   \n",
              "387  27.0          4         140.0        86.0    2790          15.6   \n",
              "388  44.0          4          97.0        52.0    2130          24.6   \n",
              "389  32.0          4         135.0        84.0    2295          11.6   \n",
              "390  28.0          4         120.0        79.0    2625          18.6   \n",
              "391  31.0          4         119.0        82.0    2720          19.4   \n",
              "\n",
              "     model_year  \n",
              "0          2015  \n",
              "1          2015  \n",
              "2          2015  \n",
              "3          2015  \n",
              "4          2015  \n",
              "..          ...  \n",
              "387        2003  \n",
              "388        2003  \n",
              "389        2003  \n",
              "390        2003  \n",
              "391        2003  \n",
              "\n",
              "[392 rows x 7 columns]"
            ],
            "text/html": [
              "\n",
              "  <div id=\"df-f2d9cfe3-3789-463e-95db-197d47dced58\">\n",
              "    <div class=\"colab-df-container\">\n",
              "      <div>\n",
              "<style scoped>\n",
              "    .dataframe tbody tr th:only-of-type {\n",
              "        vertical-align: middle;\n",
              "    }\n",
              "\n",
              "    .dataframe tbody tr th {\n",
              "        vertical-align: top;\n",
              "    }\n",
              "\n",
              "    .dataframe thead th {\n",
              "        text-align: right;\n",
              "    }\n",
              "</style>\n",
              "<table border=\"1\" class=\"dataframe\">\n",
              "  <thead>\n",
              "    <tr style=\"text-align: right;\">\n",
              "      <th></th>\n",
              "      <th>mpg</th>\n",
              "      <th>cylinders</th>\n",
              "      <th>displacement</th>\n",
              "      <th>horsepower</th>\n",
              "      <th>weight</th>\n",
              "      <th>acceleration</th>\n",
              "      <th>model_year</th>\n",
              "    </tr>\n",
              "  </thead>\n",
              "  <tbody>\n",
              "    <tr>\n",
              "      <th>0</th>\n",
              "      <td>8.0</td>\n",
              "      <td>8</td>\n",
              "      <td>307.0</td>\n",
              "      <td>130.0</td>\n",
              "      <td>3504</td>\n",
              "      <td>12.0</td>\n",
              "      <td>2015</td>\n",
              "    </tr>\n",
              "    <tr>\n",
              "      <th>1</th>\n",
              "      <td>15.0</td>\n",
              "      <td>8</td>\n",
              "      <td>350.0</td>\n",
              "      <td>165.0</td>\n",
              "      <td>3693</td>\n",
              "      <td>11.5</td>\n",
              "      <td>2015</td>\n",
              "    </tr>\n",
              "    <tr>\n",
              "      <th>2</th>\n",
              "      <td>18.0</td>\n",
              "      <td>8</td>\n",
              "      <td>318.0</td>\n",
              "      <td>150.0</td>\n",
              "      <td>3436</td>\n",
              "      <td>11.0</td>\n",
              "      <td>2015</td>\n",
              "    </tr>\n",
              "    <tr>\n",
              "      <th>3</th>\n",
              "      <td>16.0</td>\n",
              "      <td>8</td>\n",
              "      <td>304.0</td>\n",
              "      <td>150.0</td>\n",
              "      <td>3433</td>\n",
              "      <td>12.0</td>\n",
              "      <td>2015</td>\n",
              "    </tr>\n",
              "    <tr>\n",
              "      <th>4</th>\n",
              "      <td>17.0</td>\n",
              "      <td>8</td>\n",
              "      <td>302.0</td>\n",
              "      <td>140.0</td>\n",
              "      <td>3449</td>\n",
              "      <td>10.5</td>\n",
              "      <td>2015</td>\n",
              "    </tr>\n",
              "    <tr>\n",
              "      <th>...</th>\n",
              "      <td>...</td>\n",
              "      <td>...</td>\n",
              "      <td>...</td>\n",
              "      <td>...</td>\n",
              "      <td>...</td>\n",
              "      <td>...</td>\n",
              "      <td>...</td>\n",
              "    </tr>\n",
              "    <tr>\n",
              "      <th>387</th>\n",
              "      <td>27.0</td>\n",
              "      <td>4</td>\n",
              "      <td>140.0</td>\n",
              "      <td>86.0</td>\n",
              "      <td>2790</td>\n",
              "      <td>15.6</td>\n",
              "      <td>2003</td>\n",
              "    </tr>\n",
              "    <tr>\n",
              "      <th>388</th>\n",
              "      <td>44.0</td>\n",
              "      <td>4</td>\n",
              "      <td>97.0</td>\n",
              "      <td>52.0</td>\n",
              "      <td>2130</td>\n",
              "      <td>24.6</td>\n",
              "      <td>2003</td>\n",
              "    </tr>\n",
              "    <tr>\n",
              "      <th>389</th>\n",
              "      <td>32.0</td>\n",
              "      <td>4</td>\n",
              "      <td>135.0</td>\n",
              "      <td>84.0</td>\n",
              "      <td>2295</td>\n",
              "      <td>11.6</td>\n",
              "      <td>2003</td>\n",
              "    </tr>\n",
              "    <tr>\n",
              "      <th>390</th>\n",
              "      <td>28.0</td>\n",
              "      <td>4</td>\n",
              "      <td>120.0</td>\n",
              "      <td>79.0</td>\n",
              "      <td>2625</td>\n",
              "      <td>18.6</td>\n",
              "      <td>2003</td>\n",
              "    </tr>\n",
              "    <tr>\n",
              "      <th>391</th>\n",
              "      <td>31.0</td>\n",
              "      <td>4</td>\n",
              "      <td>119.0</td>\n",
              "      <td>82.0</td>\n",
              "      <td>2720</td>\n",
              "      <td>19.4</td>\n",
              "      <td>2003</td>\n",
              "    </tr>\n",
              "  </tbody>\n",
              "</table>\n",
              "<p>392 rows × 7 columns</p>\n",
              "</div>\n",
              "      <button class=\"colab-df-convert\" onclick=\"convertToInteractive('df-f2d9cfe3-3789-463e-95db-197d47dced58')\"\n",
              "              title=\"Convert this dataframe to an interactive table.\"\n",
              "              style=\"display:none;\">\n",
              "        \n",
              "  <svg xmlns=\"http://www.w3.org/2000/svg\" height=\"24px\"viewBox=\"0 0 24 24\"\n",
              "       width=\"24px\">\n",
              "    <path d=\"M0 0h24v24H0V0z\" fill=\"none\"/>\n",
              "    <path d=\"M18.56 5.44l.94 2.06.94-2.06 2.06-.94-2.06-.94-.94-2.06-.94 2.06-2.06.94zm-11 1L8.5 8.5l.94-2.06 2.06-.94-2.06-.94L8.5 2.5l-.94 2.06-2.06.94zm10 10l.94 2.06.94-2.06 2.06-.94-2.06-.94-.94-2.06-.94 2.06-2.06.94z\"/><path d=\"M17.41 7.96l-1.37-1.37c-.4-.4-.92-.59-1.43-.59-.52 0-1.04.2-1.43.59L10.3 9.45l-7.72 7.72c-.78.78-.78 2.05 0 2.83L4 21.41c.39.39.9.59 1.41.59.51 0 1.02-.2 1.41-.59l7.78-7.78 2.81-2.81c.8-.78.8-2.07 0-2.86zM5.41 20L4 18.59l7.72-7.72 1.47 1.35L5.41 20z\"/>\n",
              "  </svg>\n",
              "      </button>\n",
              "      \n",
              "  <style>\n",
              "    .colab-df-container {\n",
              "      display:flex;\n",
              "      flex-wrap:wrap;\n",
              "      gap: 12px;\n",
              "    }\n",
              "\n",
              "    .colab-df-convert {\n",
              "      background-color: #E8F0FE;\n",
              "      border: none;\n",
              "      border-radius: 50%;\n",
              "      cursor: pointer;\n",
              "      display: none;\n",
              "      fill: #1967D2;\n",
              "      height: 32px;\n",
              "      padding: 0 0 0 0;\n",
              "      width: 32px;\n",
              "    }\n",
              "\n",
              "    .colab-df-convert:hover {\n",
              "      background-color: #E2EBFA;\n",
              "      box-shadow: 0px 1px 2px rgba(60, 64, 67, 0.3), 0px 1px 3px 1px rgba(60, 64, 67, 0.15);\n",
              "      fill: #174EA6;\n",
              "    }\n",
              "\n",
              "    [theme=dark] .colab-df-convert {\n",
              "      background-color: #3B4455;\n",
              "      fill: #D2E3FC;\n",
              "    }\n",
              "\n",
              "    [theme=dark] .colab-df-convert:hover {\n",
              "      background-color: #434B5C;\n",
              "      box-shadow: 0px 1px 3px 1px rgba(0, 0, 0, 0.15);\n",
              "      filter: drop-shadow(0px 1px 2px rgba(0, 0, 0, 0.3));\n",
              "      fill: #FFFFFF;\n",
              "    }\n",
              "  </style>\n",
              "\n",
              "      <script>\n",
              "        const buttonEl =\n",
              "          document.querySelector('#df-f2d9cfe3-3789-463e-95db-197d47dced58 button.colab-df-convert');\n",
              "        buttonEl.style.display =\n",
              "          google.colab.kernel.accessAllowed ? 'block' : 'none';\n",
              "\n",
              "        async function convertToInteractive(key) {\n",
              "          const element = document.querySelector('#df-f2d9cfe3-3789-463e-95db-197d47dced58');\n",
              "          const dataTable =\n",
              "            await google.colab.kernel.invokeFunction('convertToInteractive',\n",
              "                                                     [key], {});\n",
              "          if (!dataTable) return;\n",
              "\n",
              "          const docLinkHtml = 'Like what you see? Visit the ' +\n",
              "            '<a target=\"_blank\" href=https://colab.research.google.com/notebooks/data_table.ipynb>data table notebook</a>'\n",
              "            + ' to learn more about interactive tables.';\n",
              "          element.innerHTML = '';\n",
              "          dataTable['output_type'] = 'display_data';\n",
              "          await google.colab.output.renderOutput(dataTable, element);\n",
              "          const docLink = document.createElement('div');\n",
              "          docLink.innerHTML = docLinkHtml;\n",
              "          element.appendChild(docLink);\n",
              "        }\n",
              "      </script>\n",
              "    </div>\n",
              "  </div>\n",
              "  "
            ]
          },
          "metadata": {},
          "execution_count": 3
        }
      ]
    },
    {
      "cell_type": "markdown",
      "source": [
        "#### **Pearson’s correlation coefficient**"
      ],
      "metadata": {
        "id": "5_ugayxWEosS"
      }
    },
    {
      "cell_type": "code",
      "source": [
        "corr_matrix = dataset.corr(method='pearson')"
      ],
      "metadata": {
        "id": "JEpE3SIYH0OI"
      },
      "execution_count": null,
      "outputs": []
    },
    {
      "cell_type": "code",
      "source": [
        "corr_matrix"
      ],
      "metadata": {
        "colab": {
          "base_uri": "https://localhost:8080/",
          "height": 269
        },
        "id": "Pgco5qShJlCy",
        "outputId": "039e3832-1fe9-4627-d932-8caca839353c"
      },
      "execution_count": null,
      "outputs": [
        {
          "output_type": "execute_result",
          "data": {
            "text/plain": [
              "                   mpg  cylinders  displacement  horsepower    weight  \\\n",
              "mpg           1.000000  -0.779069     -0.805134   -0.777203 -0.830645   \n",
              "cylinders    -0.779069   1.000000      0.950823    0.842983  0.897527   \n",
              "displacement -0.805134   0.950823      1.000000    0.897257  0.932994   \n",
              "horsepower   -0.777203   0.842983      0.897257    1.000000  0.864538   \n",
              "weight       -0.830645   0.897527      0.932994    0.864538  1.000000   \n",
              "acceleration  0.425674  -0.504683     -0.543800   -0.689196 -0.416839   \n",
              "model_year   -0.583311   0.345647      0.369855    0.416361  0.309120   \n",
              "\n",
              "              acceleration  model_year  \n",
              "mpg               0.425674   -0.583311  \n",
              "cylinders        -0.504683    0.345647  \n",
              "displacement     -0.543800    0.369855  \n",
              "horsepower       -0.689196    0.416361  \n",
              "weight           -0.416839    0.309120  \n",
              "acceleration      1.000000   -0.290316  \n",
              "model_year       -0.290316    1.000000  "
            ],
            "text/html": [
              "\n",
              "  <div id=\"df-06ce2e24-af96-4107-a89b-f2f1a37d8bc8\">\n",
              "    <div class=\"colab-df-container\">\n",
              "      <div>\n",
              "<style scoped>\n",
              "    .dataframe tbody tr th:only-of-type {\n",
              "        vertical-align: middle;\n",
              "    }\n",
              "\n",
              "    .dataframe tbody tr th {\n",
              "        vertical-align: top;\n",
              "    }\n",
              "\n",
              "    .dataframe thead th {\n",
              "        text-align: right;\n",
              "    }\n",
              "</style>\n",
              "<table border=\"1\" class=\"dataframe\">\n",
              "  <thead>\n",
              "    <tr style=\"text-align: right;\">\n",
              "      <th></th>\n",
              "      <th>mpg</th>\n",
              "      <th>cylinders</th>\n",
              "      <th>displacement</th>\n",
              "      <th>horsepower</th>\n",
              "      <th>weight</th>\n",
              "      <th>acceleration</th>\n",
              "      <th>model_year</th>\n",
              "    </tr>\n",
              "  </thead>\n",
              "  <tbody>\n",
              "    <tr>\n",
              "      <th>mpg</th>\n",
              "      <td>1.000000</td>\n",
              "      <td>-0.779069</td>\n",
              "      <td>-0.805134</td>\n",
              "      <td>-0.777203</td>\n",
              "      <td>-0.830645</td>\n",
              "      <td>0.425674</td>\n",
              "      <td>-0.583311</td>\n",
              "    </tr>\n",
              "    <tr>\n",
              "      <th>cylinders</th>\n",
              "      <td>-0.779069</td>\n",
              "      <td>1.000000</td>\n",
              "      <td>0.950823</td>\n",
              "      <td>0.842983</td>\n",
              "      <td>0.897527</td>\n",
              "      <td>-0.504683</td>\n",
              "      <td>0.345647</td>\n",
              "    </tr>\n",
              "    <tr>\n",
              "      <th>displacement</th>\n",
              "      <td>-0.805134</td>\n",
              "      <td>0.950823</td>\n",
              "      <td>1.000000</td>\n",
              "      <td>0.897257</td>\n",
              "      <td>0.932994</td>\n",
              "      <td>-0.543800</td>\n",
              "      <td>0.369855</td>\n",
              "    </tr>\n",
              "    <tr>\n",
              "      <th>horsepower</th>\n",
              "      <td>-0.777203</td>\n",
              "      <td>0.842983</td>\n",
              "      <td>0.897257</td>\n",
              "      <td>1.000000</td>\n",
              "      <td>0.864538</td>\n",
              "      <td>-0.689196</td>\n",
              "      <td>0.416361</td>\n",
              "    </tr>\n",
              "    <tr>\n",
              "      <th>weight</th>\n",
              "      <td>-0.830645</td>\n",
              "      <td>0.897527</td>\n",
              "      <td>0.932994</td>\n",
              "      <td>0.864538</td>\n",
              "      <td>1.000000</td>\n",
              "      <td>-0.416839</td>\n",
              "      <td>0.309120</td>\n",
              "    </tr>\n",
              "    <tr>\n",
              "      <th>acceleration</th>\n",
              "      <td>0.425674</td>\n",
              "      <td>-0.504683</td>\n",
              "      <td>-0.543800</td>\n",
              "      <td>-0.689196</td>\n",
              "      <td>-0.416839</td>\n",
              "      <td>1.000000</td>\n",
              "      <td>-0.290316</td>\n",
              "    </tr>\n",
              "    <tr>\n",
              "      <th>model_year</th>\n",
              "      <td>-0.583311</td>\n",
              "      <td>0.345647</td>\n",
              "      <td>0.369855</td>\n",
              "      <td>0.416361</td>\n",
              "      <td>0.309120</td>\n",
              "      <td>-0.290316</td>\n",
              "      <td>1.000000</td>\n",
              "    </tr>\n",
              "  </tbody>\n",
              "</table>\n",
              "</div>\n",
              "      <button class=\"colab-df-convert\" onclick=\"convertToInteractive('df-06ce2e24-af96-4107-a89b-f2f1a37d8bc8')\"\n",
              "              title=\"Convert this dataframe to an interactive table.\"\n",
              "              style=\"display:none;\">\n",
              "        \n",
              "  <svg xmlns=\"http://www.w3.org/2000/svg\" height=\"24px\"viewBox=\"0 0 24 24\"\n",
              "       width=\"24px\">\n",
              "    <path d=\"M0 0h24v24H0V0z\" fill=\"none\"/>\n",
              "    <path d=\"M18.56 5.44l.94 2.06.94-2.06 2.06-.94-2.06-.94-.94-2.06-.94 2.06-2.06.94zm-11 1L8.5 8.5l.94-2.06 2.06-.94-2.06-.94L8.5 2.5l-.94 2.06-2.06.94zm10 10l.94 2.06.94-2.06 2.06-.94-2.06-.94-.94-2.06-.94 2.06-2.06.94z\"/><path d=\"M17.41 7.96l-1.37-1.37c-.4-.4-.92-.59-1.43-.59-.52 0-1.04.2-1.43.59L10.3 9.45l-7.72 7.72c-.78.78-.78 2.05 0 2.83L4 21.41c.39.39.9.59 1.41.59.51 0 1.02-.2 1.41-.59l7.78-7.78 2.81-2.81c.8-.78.8-2.07 0-2.86zM5.41 20L4 18.59l7.72-7.72 1.47 1.35L5.41 20z\"/>\n",
              "  </svg>\n",
              "      </button>\n",
              "      \n",
              "  <style>\n",
              "    .colab-df-container {\n",
              "      display:flex;\n",
              "      flex-wrap:wrap;\n",
              "      gap: 12px;\n",
              "    }\n",
              "\n",
              "    .colab-df-convert {\n",
              "      background-color: #E8F0FE;\n",
              "      border: none;\n",
              "      border-radius: 50%;\n",
              "      cursor: pointer;\n",
              "      display: none;\n",
              "      fill: #1967D2;\n",
              "      height: 32px;\n",
              "      padding: 0 0 0 0;\n",
              "      width: 32px;\n",
              "    }\n",
              "\n",
              "    .colab-df-convert:hover {\n",
              "      background-color: #E2EBFA;\n",
              "      box-shadow: 0px 1px 2px rgba(60, 64, 67, 0.3), 0px 1px 3px 1px rgba(60, 64, 67, 0.15);\n",
              "      fill: #174EA6;\n",
              "    }\n",
              "\n",
              "    [theme=dark] .colab-df-convert {\n",
              "      background-color: #3B4455;\n",
              "      fill: #D2E3FC;\n",
              "    }\n",
              "\n",
              "    [theme=dark] .colab-df-convert:hover {\n",
              "      background-color: #434B5C;\n",
              "      box-shadow: 0px 1px 3px 1px rgba(0, 0, 0, 0.15);\n",
              "      filter: drop-shadow(0px 1px 2px rgba(0, 0, 0, 0.3));\n",
              "      fill: #FFFFFF;\n",
              "    }\n",
              "  </style>\n",
              "\n",
              "      <script>\n",
              "        const buttonEl =\n",
              "          document.querySelector('#df-06ce2e24-af96-4107-a89b-f2f1a37d8bc8 button.colab-df-convert');\n",
              "        buttonEl.style.display =\n",
              "          google.colab.kernel.accessAllowed ? 'block' : 'none';\n",
              "\n",
              "        async function convertToInteractive(key) {\n",
              "          const element = document.querySelector('#df-06ce2e24-af96-4107-a89b-f2f1a37d8bc8');\n",
              "          const dataTable =\n",
              "            await google.colab.kernel.invokeFunction('convertToInteractive',\n",
              "                                                     [key], {});\n",
              "          if (!dataTable) return;\n",
              "\n",
              "          const docLinkHtml = 'Like what you see? Visit the ' +\n",
              "            '<a target=\"_blank\" href=https://colab.research.google.com/notebooks/data_table.ipynb>data table notebook</a>'\n",
              "            + ' to learn more about interactive tables.';\n",
              "          element.innerHTML = '';\n",
              "          dataTable['output_type'] = 'display_data';\n",
              "          await google.colab.output.renderOutput(dataTable, element);\n",
              "          const docLink = document.createElement('div');\n",
              "          docLink.innerHTML = docLinkHtml;\n",
              "          element.appendChild(docLink);\n",
              "        }\n",
              "      </script>\n",
              "    </div>\n",
              "  </div>\n",
              "  "
            ]
          },
          "metadata": {},
          "execution_count": 5
        }
      ]
    },
    {
      "cell_type": "markdown",
      "source": [
        "#### **Plot obtained covariance matrix**"
      ],
      "metadata": {
        "id": "yPxHX8vGgawE"
      }
    },
    {
      "cell_type": "code",
      "source": [
        "sns.heatmap(corr_matrix, annot=True)"
      ],
      "metadata": {
        "colab": {
          "base_uri": "https://localhost:8080/",
          "height": 533
        },
        "id": "JajIiA-TeR-H",
        "outputId": "e8356e43-f101-4e84-9f57-da27b524f14c"
      },
      "execution_count": null,
      "outputs": [
        {
          "output_type": "execute_result",
          "data": {
            "text/plain": [
              "<Axes: >"
            ]
          },
          "metadata": {},
          "execution_count": 6
        },
        {
          "output_type": "display_data",
          "data": {
            "text/plain": [
              "<Figure size 640x480 with 2 Axes>"
            ],
            "image/png": "[encoded data removed]"
          },
          "metadata": {}
        }
      ]
    },
    {
      "cell_type": "markdown",
      "source": [
        "#### **Answer**\n",
        "#### **a.**\n",
        "The **cylinders** and **displacement** are the most correlated features (with the Pearson's correlation value is 0.95)\n",
        "#### **b.**\n",
        "From the correlation matrix, we can see that the covariates cylinders, \n",
        "displacement, horsepower, and weight have a strong correlation with mpg, while acceleration and model_year have a weaker correlation.\n",
        "> \n",
        "Cylinders, displacement, horsepower, and weight are highly correlated with each other. Therefore, we should only choose one of them. Among them, weight has the highest absolute correlation with mpg. So, we can choose weight as the predictor covariate.\n",
        ">\n",
        "We can also see that acceleration, model_year have a weak correlation with mpg and are not highly correlated with other predictor covariates. So acceleration and model_year should be added to the set of features.\n",
        "> =>  The set of features: **weight**, **acceleration** and **model_year** seems to contain most of the userful information and does not contain duplicated features\n",
        "\n",
        "\n",
        "> => The multicollinearity happens in this dataset since there are some covariates that highly depend on each other.\n",
        "\n",
        "\n"
      ],
      "metadata": {
        "id": "GMg--8qpplsd"
      }
    },
    {
      "cell_type": "markdown",
      "source": [
        "### **2. [1 pt]** \n",
        "Perform a simple linear regression using full dataset where target is an mpg column, \n",
        "covariates – all other columns. Based on p-values from t-tests, which covariates have \n",
        "coefficients that are significantly different from zero at 5% significance level?"
      ],
      "metadata": {
        "id": "ek0Ybapr9gwM"
      }
    },
    {
      "cell_type": "markdown",
      "source": [
        "#### **Simple linear regression**"
      ],
      "metadata": {
        "id": "Ep1w0DaQ9x4-"
      }
    },
    {
      "cell_type": "code",
      "source": [
        "import statsmodels.api as sm"
      ],
      "metadata": {
        "id": "v8p1OHNnI-4_"
      },
      "execution_count": null,
      "outputs": []
    },
    {
      "cell_type": "code",
      "source": [
        "y = dataset.iloc[:, :1]\n",
        "y"
      ],
      "metadata": {
        "colab": {
          "base_uri": "https://localhost:8080/",
          "height": 423
        },
        "id": "bir0zgvHkBEy",
        "outputId": "92d58927-5590-4853-8cab-0b0202443951"
      },
      "execution_count": null,
      "outputs": [
        {
          "output_type": "execute_result",
          "data": {
            "text/plain": [
              "      mpg\n",
              "0     8.0\n",
              "1    15.0\n",
              "2    18.0\n",
              "3    16.0\n",
              "4    17.0\n",
              "..    ...\n",
              "387  27.0\n",
              "388  44.0\n",
              "389  32.0\n",
              "390  28.0\n",
              "391  31.0\n",
              "\n",
              "[392 rows x 1 columns]"
            ],
            "text/html": [
              "\n",
              "  <div id=\"df-d36fcc09-320c-431a-955f-58f95d8c07bd\">\n",
              "    <div class=\"colab-df-container\">\n",
              "      <div>\n",
              "<style scoped>\n",
              "    .dataframe tbody tr th:only-of-type {\n",
              "        vertical-align: middle;\n",
              "    }\n",
              "\n",
              "    .dataframe tbody tr th {\n",
              "        vertical-align: top;\n",
              "    }\n",
              "\n",
              "    .dataframe thead th {\n",
              "        text-align: right;\n",
              "    }\n",
              "</style>\n",
              "<table border=\"1\" class=\"dataframe\">\n",
              "  <thead>\n",
              "    <tr style=\"text-align: right;\">\n",
              "      <th></th>\n",
              "      <th>mpg</th>\n",
              "    </tr>\n",
              "  </thead>\n",
              "  <tbody>\n",
              "    <tr>\n",
              "      <th>0</th>\n",
              "      <td>8.0</td>\n",
              "    </tr>\n",
              "    <tr>\n",
              "      <th>1</th>\n",
              "      <td>15.0</td>\n",
              "    </tr>\n",
              "    <tr>\n",
              "      <th>2</th>\n",
              "      <td>18.0</td>\n",
              "    </tr>\n",
              "    <tr>\n",
              "      <th>3</th>\n",
              "      <td>16.0</td>\n",
              "    </tr>\n",
              "    <tr>\n",
              "      <th>4</th>\n",
              "      <td>17.0</td>\n",
              "    </tr>\n",
              "    <tr>\n",
              "      <th>...</th>\n",
              "      <td>...</td>\n",
              "    </tr>\n",
              "    <tr>\n",
              "      <th>387</th>\n",
              "      <td>27.0</td>\n",
              "    </tr>\n",
              "    <tr>\n",
              "      <th>388</th>\n",
              "      <td>44.0</td>\n",
              "    </tr>\n",
              "    <tr>\n",
              "      <th>389</th>\n",
              "      <td>32.0</td>\n",
              "    </tr>\n",
              "    <tr>\n",
              "      <th>390</th>\n",
              "      <td>28.0</td>\n",
              "    </tr>\n",
              "    <tr>\n",
              "      <th>391</th>\n",
              "      <td>31.0</td>\n",
              "    </tr>\n",
              "  </tbody>\n",
              "</table>\n",
              "<p>392 rows × 1 columns</p>\n",
              "</div>\n",
              "      <button class=\"colab-df-convert\" onclick=\"convertToInteractive('df-d36fcc09-320c-431a-955f-58f95d8c07bd')\"\n",
              "              title=\"Convert this dataframe to an interactive table.\"\n",
              "              style=\"display:none;\">\n",
              "        \n",
              "  <svg xmlns=\"http://www.w3.org/2000/svg\" height=\"24px\"viewBox=\"0 0 24 24\"\n",
              "       width=\"24px\">\n",
              "    <path d=\"M0 0h24v24H0V0z\" fill=\"none\"/>\n",
              "    <path d=\"M18.56 5.44l.94 2.06.94-2.06 2.06-.94-2.06-.94-.94-2.06-.94 2.06-2.06.94zm-11 1L8.5 8.5l.94-2.06 2.06-.94-2.06-.94L8.5 2.5l-.94 2.06-2.06.94zm10 10l.94 2.06.94-2.06 2.06-.94-2.06-.94-.94-2.06-.94 2.06-2.06.94z\"/><path d=\"M17.41 7.96l-1.37-1.37c-.4-.4-.92-.59-1.43-.59-.52 0-1.04.2-1.43.59L10.3 9.45l-7.72 7.72c-.78.78-.78 2.05 0 2.83L4 21.41c.39.39.9.59 1.41.59.51 0 1.02-.2 1.41-.59l7.78-7.78 2.81-2.81c.8-.78.8-2.07 0-2.86zM5.41 20L4 18.59l7.72-7.72 1.47 1.35L5.41 20z\"/>\n",
              "  </svg>\n",
              "      </button>\n",
              "      \n",
              "  <style>\n",
              "    .colab-df-container {\n",
              "      display:flex;\n",
              "      flex-wrap:wrap;\n",
              "      gap: 12px;\n",
              "    }\n",
              "\n",
              "    .colab-df-convert {\n",
              "      background-color: #E8F0FE;\n",
              "      border: none;\n",
              "      border-radius: 50%;\n",
              "      cursor: pointer;\n",
              "      display: none;\n",
              "      fill: #1967D2;\n",
              "      height: 32px;\n",
              "      padding: 0 0 0 0;\n",
              "      width: 32px;\n",
              "    }\n",
              "\n",
              "    .colab-df-convert:hover {\n",
              "      background-color: #E2EBFA;\n",
              "      box-shadow: 0px 1px 2px rgba(60, 64, 67, 0.3), 0px 1px 3px 1px rgba(60, 64, 67, 0.15);\n",
              "      fill: #174EA6;\n",
              "    }\n",
              "\n",
              "    [theme=dark] .colab-df-convert {\n",
              "      background-color: #3B4455;\n",
              "      fill: #D2E3FC;\n",
              "    }\n",
              "\n",
              "    [theme=dark] .colab-df-convert:hover {\n",
              "      background-color: #434B5C;\n",
              "      box-shadow: 0px 1px 3px 1px rgba(0, 0, 0, 0.15);\n",
              "      filter: drop-shadow(0px 1px 2px rgba(0, 0, 0, 0.3));\n",
              "      fill: #FFFFFF;\n",
              "    }\n",
              "  </style>\n",
              "\n",
              "      <script>\n",
              "        const buttonEl =\n",
              "          document.querySelector('#df-d36fcc09-320c-431a-955f-58f95d8c07bd button.colab-df-convert');\n",
              "        buttonEl.style.display =\n",
              "          google.colab.kernel.accessAllowed ? 'block' : 'none';\n",
              "\n",
              "        async function convertToInteractive(key) {\n",
              "          const element = document.querySelector('#df-d36fcc09-320c-431a-955f-58f95d8c07bd');\n",
              "          const dataTable =\n",
              "            await google.colab.kernel.invokeFunction('convertToInteractive',\n",
              "                                                     [key], {});\n",
              "          if (!dataTable) return;\n",
              "\n",
              "          const docLinkHtml = 'Like what you see? Visit the ' +\n",
              "            '<a target=\"_blank\" href=https://colab.research.google.com/notebooks/data_table.ipynb>data table notebook</a>'\n",
              "            + ' to learn more about interactive tables.';\n",
              "          element.innerHTML = '';\n",
              "          dataTable['output_type'] = 'display_data';\n",
              "          await google.colab.output.renderOutput(dataTable, element);\n",
              "          const docLink = document.createElement('div');\n",
              "          docLink.innerHTML = docLinkHtml;\n",
              "          element.appendChild(docLink);\n",
              "        }\n",
              "      </script>\n",
              "    </div>\n",
              "  </div>\n",
              "  "
            ]
          },
          "metadata": {},
          "execution_count": 8
        }
      ]
    },
    {
      "cell_type": "code",
      "source": [
        "X = dataset.iloc[:, 1:7]\n",
        "X"
      ],
      "metadata": {
        "colab": {
          "base_uri": "https://localhost:8080/",
          "height": 423
        },
        "id": "yNiDjSv6kKj9",
        "outputId": "3b008159-828d-407b-9ee4-74f0f1c0d0f5"
      },
      "execution_count": null,
      "outputs": [
        {
          "output_type": "execute_result",
          "data": {
            "text/plain": [
              "     cylinders  displacement  horsepower  weight  acceleration  model_year\n",
              "0            8         307.0       130.0    3504          12.0        2015\n",
              "1            8         350.0       165.0    3693          11.5        2015\n",
              "2            8         318.0       150.0    3436          11.0        2015\n",
              "3            8         304.0       150.0    3433          12.0        2015\n",
              "4            8         302.0       140.0    3449          10.5        2015\n",
              "..         ...           ...         ...     ...           ...         ...\n",
              "387          4         140.0        86.0    2790          15.6        2003\n",
              "388          4          97.0        52.0    2130          24.6        2003\n",
              "389          4         135.0        84.0    2295          11.6        2003\n",
              "390          4         120.0        79.0    2625          18.6        2003\n",
              "391          4         119.0        82.0    2720          19.4        2003\n",
              "\n",
              "[392 rows x 6 columns]"
            ],
            "text/html": [
              "\n",
              "  <div id=\"df-28326bd5-8a4a-4e2d-8947-b810e630697a\">\n",
              "    <div class=\"colab-df-container\">\n",
              "      <div>\n",
              "<style scoped>\n",
              "    .dataframe tbody tr th:only-of-type {\n",
              "        vertical-align: middle;\n",
              "    }\n",
              "\n",
              "    .dataframe tbody tr th {\n",
              "        vertical-align: top;\n",
              "    }\n",
              "\n",
              "    .dataframe thead th {\n",
              "        text-align: right;\n",
              "    }\n",
              "</style>\n",
              "<table border=\"1\" class=\"dataframe\">\n",
              "  <thead>\n",
              "    <tr style=\"text-align: right;\">\n",
              "      <th></th>\n",
              "      <th>cylinders</th>\n",
              "      <th>displacement</th>\n",
              "      <th>horsepower</th>\n",
              "      <th>weight</th>\n",
              "      <th>acceleration</th>\n",
              "      <th>model_year</th>\n",
              "    </tr>\n",
              "  </thead>\n",
              "  <tbody>\n",
              "    <tr>\n",
              "      <th>0</th>\n",
              "      <td>8</td>\n",
              "      <td>307.0</td>\n",
              "      <td>130.0</td>\n",
              "      <td>3504</td>\n",
              "      <td>12.0</td>\n",
              "      <td>2015</td>\n",
              "    </tr>\n",
              "    <tr>\n",
              "      <th>1</th>\n",
              "      <td>8</td>\n",
              "      <td>350.0</td>\n",
              "      <td>165.0</td>\n",
              "      <td>3693</td>\n",
              "      <td>11.5</td>\n",
              "      <td>2015</td>\n",
              "    </tr>\n",
              "    <tr>\n",
              "      <th>2</th>\n",
              "      <td>8</td>\n",
              "      <td>318.0</td>\n",
              "      <td>150.0</td>\n",
              "      <td>3436</td>\n",
              "      <td>11.0</td>\n",
              "      <td>2015</td>\n",
              "    </tr>\n",
              "    <tr>\n",
              "      <th>3</th>\n",
              "      <td>8</td>\n",
              "      <td>304.0</td>\n",
              "      <td>150.0</td>\n",
              "      <td>3433</td>\n",
              "      <td>12.0</td>\n",
              "      <td>2015</td>\n",
              "    </tr>\n",
              "    <tr>\n",
              "      <th>4</th>\n",
              "      <td>8</td>\n",
              "      <td>302.0</td>\n",
              "      <td>140.0</td>\n",
              "      <td>3449</td>\n",
              "      <td>10.5</td>\n",
              "      <td>2015</td>\n",
              "    </tr>\n",
              "    <tr>\n",
              "      <th>...</th>\n",
              "      <td>...</td>\n",
              "      <td>...</td>\n",
              "      <td>...</td>\n",
              "      <td>...</td>\n",
              "      <td>...</td>\n",
              "      <td>...</td>\n",
              "    </tr>\n",
              "    <tr>\n",
              "      <th>387</th>\n",
              "      <td>4</td>\n",
              "      <td>140.0</td>\n",
              "      <td>86.0</td>\n",
              "      <td>2790</td>\n",
              "      <td>15.6</td>\n",
              "      <td>2003</td>\n",
              "    </tr>\n",
              "    <tr>\n",
              "      <th>388</th>\n",
              "      <td>4</td>\n",
              "      <td>97.0</td>\n",
              "      <td>52.0</td>\n",
              "      <td>2130</td>\n",
              "      <td>24.6</td>\n",
              "      <td>2003</td>\n",
              "    </tr>\n",
              "    <tr>\n",
              "      <th>389</th>\n",
              "      <td>4</td>\n",
              "      <td>135.0</td>\n",
              "      <td>84.0</td>\n",
              "      <td>2295</td>\n",
              "      <td>11.6</td>\n",
              "      <td>2003</td>\n",
              "    </tr>\n",
              "    <tr>\n",
              "      <th>390</th>\n",
              "      <td>4</td>\n",
              "      <td>120.0</td>\n",
              "      <td>79.0</td>\n",
              "      <td>2625</td>\n",
              "      <td>18.6</td>\n",
              "      <td>2003</td>\n",
              "    </tr>\n",
              "    <tr>\n",
              "      <th>391</th>\n",
              "      <td>4</td>\n",
              "      <td>119.0</td>\n",
              "      <td>82.0</td>\n",
              "      <td>2720</td>\n",
              "      <td>19.4</td>\n",
              "      <td>2003</td>\n",
              "    </tr>\n",
              "  </tbody>\n",
              "</table>\n",
              "<p>392 rows × 6 columns</p>\n",
              "</div>\n",
              "      <button class=\"colab-df-convert\" onclick=\"convertToInteractive('df-28326bd5-8a4a-4e2d-8947-b810e630697a')\"\n",
              "              title=\"Convert this dataframe to an interactive table.\"\n",
              "              style=\"display:none;\">\n",
              "        \n",
              "  <svg xmlns=\"http://www.w3.org/2000/svg\" height=\"24px\"viewBox=\"0 0 24 24\"\n",
              "       width=\"24px\">\n",
              "    <path d=\"M0 0h24v24H0V0z\" fill=\"none\"/>\n",
              "    <path d=\"M18.56 5.44l.94 2.06.94-2.06 2.06-.94-2.06-.94-.94-2.06-.94 2.06-2.06.94zm-11 1L8.5 8.5l.94-2.06 2.06-.94-2.06-.94L8.5 2.5l-.94 2.06-2.06.94zm10 10l.94 2.06.94-2.06 2.06-.94-2.06-.94-.94-2.06-.94 2.06-2.06.94z\"/><path d=\"M17.41 7.96l-1.37-1.37c-.4-.4-.92-.59-1.43-.59-.52 0-1.04.2-1.43.59L10.3 9.45l-7.72 7.72c-.78.78-.78 2.05 0 2.83L4 21.41c.39.39.9.59 1.41.59.51 0 1.02-.2 1.41-.59l7.78-7.78 2.81-2.81c.8-.78.8-2.07 0-2.86zM5.41 20L4 18.59l7.72-7.72 1.47 1.35L5.41 20z\"/>\n",
              "  </svg>\n",
              "      </button>\n",
              "      \n",
              "  <style>\n",
              "    .colab-df-container {\n",
              "      display:flex;\n",
              "      flex-wrap:wrap;\n",
              "      gap: 12px;\n",
              "    }\n",
              "\n",
              "    .colab-df-convert {\n",
              "      background-color: #E8F0FE;\n",
              "      border: none;\n",
              "      border-radius: 50%;\n",
              "      cursor: pointer;\n",
              "      display: none;\n",
              "      fill: #1967D2;\n",
              "      height: 32px;\n",
              "      padding: 0 0 0 0;\n",
              "      width: 32px;\n",
              "    }\n",
              "\n",
              "    .colab-df-convert:hover {\n",
              "      background-color: #E2EBFA;\n",
              "      box-shadow: 0px 1px 2px rgba(60, 64, 67, 0.3), 0px 1px 3px 1px rgba(60, 64, 67, 0.15);\n",
              "      fill: #174EA6;\n",
              "    }\n",
              "\n",
              "    [theme=dark] .colab-df-convert {\n",
              "      background-color: #3B4455;\n",
              "      fill: #D2E3FC;\n",
              "    }\n",
              "\n",
              "    [theme=dark] .colab-df-convert:hover {\n",
              "      background-color: #434B5C;\n",
              "      box-shadow: 0px 1px 3px 1px rgba(0, 0, 0, 0.15);\n",
              "      filter: drop-shadow(0px 1px 2px rgba(0, 0, 0, 0.3));\n",
              "      fill: #FFFFFF;\n",
              "    }\n",
              "  </style>\n",
              "\n",
              "      <script>\n",
              "        const buttonEl =\n",
              "          document.querySelector('#df-28326bd5-8a4a-4e2d-8947-b810e630697a button.colab-df-convert');\n",
              "        buttonEl.style.display =\n",
              "          google.colab.kernel.accessAllowed ? 'block' : 'none';\n",
              "\n",
              "        async function convertToInteractive(key) {\n",
              "          const element = document.querySelector('#df-28326bd5-8a4a-4e2d-8947-b810e630697a');\n",
              "          const dataTable =\n",
              "            await google.colab.kernel.invokeFunction('convertToInteractive',\n",
              "                                                     [key], {});\n",
              "          if (!dataTable) return;\n",
              "\n",
              "          const docLinkHtml = 'Like what you see? Visit the ' +\n",
              "            '<a target=\"_blank\" href=https://colab.research.google.com/notebooks/data_table.ipynb>data table notebook</a>'\n",
              "            + ' to learn more about interactive tables.';\n",
              "          element.innerHTML = '';\n",
              "          dataTable['output_type'] = 'display_data';\n",
              "          await google.colab.output.renderOutput(dataTable, element);\n",
              "          const docLink = document.createElement('div');\n",
              "          docLink.innerHTML = docLinkHtml;\n",
              "          element.appendChild(docLink);\n",
              "        }\n",
              "      </script>\n",
              "    </div>\n",
              "  </div>\n",
              "  "
            ]
          },
          "metadata": {},
          "execution_count": 9
        }
      ]
    },
    {
      "cell_type": "code",
      "source": [
        "X_add_one = sm.add_constant(X)"
      ],
      "metadata": {
        "id": "7AkGwW1727l0"
      },
      "execution_count": null,
      "outputs": []
    },
    {
      "cell_type": "code",
      "source": [
        "results = sm.OLS(endog=y, exog=X_add_one, hasconst=True).fit()\n",
        "results.summary()"
      ],
      "metadata": {
        "colab": {
          "base_uri": "https://localhost:8080/",
          "height": 587
        },
        "id": "3zXCXWyZkZ1d",
        "outputId": "c468ff8a-fff9-4546-b6a0-286b6ccb5ab1"
      },
      "execution_count": null,
      "outputs": [
        {
          "output_type": "execute_result",
          "data": {
            "text/plain": [
              "<class 'statsmodels.iolib.summary.Summary'>\n",
              "\"\"\"\n",
              "                            OLS Regression Results                            \n",
              "==============================================================================\n",
              "Dep. Variable:                    mpg   R-squared:                       0.809\n",
              "Model:                            OLS   Adj. R-squared:                  0.806\n",
              "Method:                 Least Squares   F-statistic:                     272.3\n",
              "Date:                Wed, 10 May 2023   Prob (F-statistic):          3.72e-135\n",
              "Time:                        17:01:43   Log-Likelihood:                -1038.1\n",
              "No. Observations:                 392   AIC:                             2090.\n",
              "Df Residuals:                     385   BIC:                             2118.\n",
              "Df Model:                           6                                         \n",
              "Covariance Type:            nonrobust                                         \n",
              "================================================================================\n",
              "                   coef    std err          t      P>|t|      [0.025      0.975]\n",
              "--------------------------------------------------------------------------------\n",
              "const         1578.2603    105.940     14.898      0.000    1369.967    1786.554\n",
              "cylinders       -0.4020      0.334     -1.205      0.229      -1.058       0.254\n",
              "displacement     0.0079      0.007      1.070      0.285      -0.007       0.022\n",
              "horsepower       0.0021      0.014      0.153      0.878      -0.025       0.029\n",
              "weight          -0.0068      0.001    -10.061      0.000      -0.008      -0.005\n",
              "acceleration     0.1025      0.102      1.000      0.318      -0.099       0.304\n",
              "model_year      -0.7645      0.053    -14.466      0.000      -0.868      -0.661\n",
              "==============================================================================\n",
              "Omnibus:                       35.335   Durbin-Watson:                   1.235\n",
              "Prob(Omnibus):                  0.000   Jarque-Bera (JB):               54.951\n",
              "Skew:                           0.603   Prob(JB):                     1.17e-12\n",
              "Kurtosis:                       4.382   Cond. No.                     2.23e+06\n",
              "==============================================================================\n",
              "\n",
              "Notes:\n",
              "[1] Standard Errors assume that the covariance matrix of the errors is correctly specified.\n",
              "[2] The condition number is large, 2.23e+06. This might indicate that there are\n",
              "strong multicollinearity or other numerical problems.\n",
              "\"\"\""
            ],
            "text/html": [
              "<table class=\"simpletable\">\n",
              "<caption>OLS Regression Results</caption>\n",
              "<tr>\n",
              "  <th>Dep. Variable:</th>           <td>mpg</td>       <th>  R-squared:         </th> <td>   0.809</td> \n",
              "</tr>\n",
              "<tr>\n",
              "  <th>Model:</th>                   <td>OLS</td>       <th>  Adj. R-squared:    </th> <td>   0.806</td> \n",
              "</tr>\n",
              "<tr>\n",
              "  <th>Method:</th>             <td>Least Squares</td>  <th>  F-statistic:       </th> <td>   272.3</td> \n",
              "</tr>\n",
              "<tr>\n",
              "  <th>Date:</th>             <td>Wed, 10 May 2023</td> <th>  Prob (F-statistic):</th> <td>3.72e-135</td>\n",
              "</tr>\n",
              "<tr>\n",
              "  <th>Time:</th>                 <td>17:01:43</td>     <th>  Log-Likelihood:    </th> <td> -1038.1</td> \n",
              "</tr>\n",
              "<tr>\n",
              "  <th>No. Observations:</th>      <td>   392</td>      <th>  AIC:               </th> <td>   2090.</td> \n",
              "</tr>\n",
              "<tr>\n",
              "  <th>Df Residuals:</th>          <td>   385</td>      <th>  BIC:               </th> <td>   2118.</td> \n",
              "</tr>\n",
              "<tr>\n",
              "  <th>Df Model:</th>              <td>     6</td>      <th>                     </th>     <td> </td>    \n",
              "</tr>\n",
              "<tr>\n",
              "  <th>Covariance Type:</th>      <td>nonrobust</td>    <th>                     </th>     <td> </td>    \n",
              "</tr>\n",
              "</table>\n",
              "<table class=\"simpletable\">\n",
              "<tr>\n",
              "        <td></td>          <th>coef</th>     <th>std err</th>      <th>t</th>      <th>P>|t|</th>  <th>[0.025</th>    <th>0.975]</th>  \n",
              "</tr>\n",
              "<tr>\n",
              "  <th>const</th>        <td> 1578.2603</td> <td>  105.940</td> <td>   14.898</td> <td> 0.000</td> <td> 1369.967</td> <td> 1786.554</td>\n",
              "</tr>\n",
              "<tr>\n",
              "  <th>cylinders</th>    <td>   -0.4020</td> <td>    0.334</td> <td>   -1.205</td> <td> 0.229</td> <td>   -1.058</td> <td>    0.254</td>\n",
              "</tr>\n",
              "<tr>\n",
              "  <th>displacement</th> <td>    0.0079</td> <td>    0.007</td> <td>    1.070</td> <td> 0.285</td> <td>   -0.007</td> <td>    0.022</td>\n",
              "</tr>\n",
              "<tr>\n",
              "  <th>horsepower</th>   <td>    0.0021</td> <td>    0.014</td> <td>    0.153</td> <td> 0.878</td> <td>   -0.025</td> <td>    0.029</td>\n",
              "</tr>\n",
              "<tr>\n",
              "  <th>weight</th>       <td>   -0.0068</td> <td>    0.001</td> <td>  -10.061</td> <td> 0.000</td> <td>   -0.008</td> <td>   -0.005</td>\n",
              "</tr>\n",
              "<tr>\n",
              "  <th>acceleration</th> <td>    0.1025</td> <td>    0.102</td> <td>    1.000</td> <td> 0.318</td> <td>   -0.099</td> <td>    0.304</td>\n",
              "</tr>\n",
              "<tr>\n",
              "  <th>model_year</th>   <td>   -0.7645</td> <td>    0.053</td> <td>  -14.466</td> <td> 0.000</td> <td>   -0.868</td> <td>   -0.661</td>\n",
              "</tr>\n",
              "</table>\n",
              "<table class=\"simpletable\">\n",
              "<tr>\n",
              "  <th>Omnibus:</th>       <td>35.335</td> <th>  Durbin-Watson:     </th> <td>   1.235</td>\n",
              "</tr>\n",
              "<tr>\n",
              "  <th>Prob(Omnibus):</th> <td> 0.000</td> <th>  Jarque-Bera (JB):  </th> <td>  54.951</td>\n",
              "</tr>\n",
              "<tr>\n",
              "  <th>Skew:</th>          <td> 0.603</td> <th>  Prob(JB):          </th> <td>1.17e-12</td>\n",
              "</tr>\n",
              "<tr>\n",
              "  <th>Kurtosis:</th>      <td> 4.382</td> <th>  Cond. No.          </th> <td>2.23e+06</td>\n",
              "</tr>\n",
              "</table><br/><br/>Notes:<br/>[1] Standard Errors assume that the covariance matrix of the errors is correctly specified.<br/>[2] The condition number is large, 2.23e+06. This might indicate that there are<br/>strong multicollinearity or other numerical problems."
            ]
          },
          "metadata": {},
          "execution_count": 11
        }
      ]
    },
    {
      "cell_type": "markdown",
      "source": [
        "#### **Answer**\n",
        "Based on p-values from t-tests: **weight** and **model_year** are covariates have coefficients that are significantly different from zero at 5% significance level\n",
        "\n",
        "\n"
      ],
      "metadata": {
        "id": "ywL6BscUXBpr"
      }
    },
    {
      "cell_type": "markdown",
      "source": [
        "### **3. ** \n",
        "Loop over all possible sets of covariates and perform simple linear regression over each \n",
        "individual feature set predicting target value (mpg) using full dataset. For each model compute \n",
        "and store BIC and Mallow’s 𝐶𝑝 (as defined in Wasserman’s “All of Statistics”, p. 219).\n"
      ],
      "metadata": {
        "id": "CZrSukouYVSo"
      }
    },
    {
      "cell_type": "markdown",
      "source": [
        "#### **Compute Mallow's Cp**"
      ],
      "metadata": {
        "id": "CjUZIC2s3iYf"
      }
    },
    {
      "cell_type": "code",
      "source": [
        "def mallow_Cp(ssr, size, mse_resid):\n",
        "  return ssr + 2 * size * mse_resid"
      ],
      "metadata": {
        "id": "3_02h-fFesca"
      },
      "execution_count": null,
      "outputs": []
    },
    {
      "cell_type": "markdown",
      "source": [
        "#### **Perform the linear regression over all set of features**"
      ],
      "metadata": {
        "id": "Q0GE9ujh6Kud"
      }
    },
    {
      "cell_type": "code",
      "source": [
        "def fit_ols(X_, y_):\n",
        "  X_const = sm.add_constant(X_)\n",
        "  model = sm.OLS(endog=y_, exog=X_const, hasconst=True).fit()\n",
        "  cp_value = mallow_Cp(model.ssr, len(model.params), model.mse_resid)\n",
        "  return model.bic, cp_value"
      ],
      "metadata": {
        "id": "s_EZn1V76IGx"
      },
      "execution_count": null,
      "outputs": []
    },
    {
      "cell_type": "code",
      "source": [
        "from tqdm import tnrange\n",
        "import itertools\n",
        "\n",
        "feature_list = []\n",
        "len_set = []\n",
        "bic_values = []\n",
        "cp_values = []\n",
        "\n",
        "# First run through the number of features in the set\n",
        "for k in tnrange(1,len(X.columns) + 1, desc = 'Loop...'):\n",
        "  # Run all k-combination of features\n",
        "  for combi in itertools.combinations(X.columns,k):\n",
        "    result = fit_ols(X[list(combi)], y)\n",
        "    feature_list.append(combi)\n",
        "    len_set.append(len(combi))\n",
        "    bic_values.append(result[0])\n",
        "    cp_values.append(result[1])\n",
        "\n",
        "# Store in dataframe\n",
        "df = pd.DataFrame({'Number of features': len_set, 'Features': feature_list, 'BIC': bic_values, 'Cp': cp_values})\n",
        "\n"
      ],
      "metadata": {
        "colab": {
          "base_uri": "https://localhost:8080/",
          "height": 85,
          "referenced_widgets": [
            "f5ada8efe03244288944c9c3aebaf644",
            "73fe1feb18db4558b6ba5312cb9ea719",
            "85de4dc8b8f84a13a764bdfbe3906d94",
            "675df70a91b04c5a831585ee34fa9280",
            "928fbe2ab4444cf386c748ab08aa6e57",
            "4d60683216714515b3f8d8b7b1a75780",
            "bd2ccd826f6949c1ad1324799a537f5a",
            "d05b68798723417a8ad84715e614d2bf",
            "704a832fbe9e4f6084563154d9998d1d",
            "1a68a6cc4dd54ae8ad1e7cca7f426f0c",
            "c5c85400fcef47afa9a814fd5acefb4f"
          ]
        },
        "id": "e00BTU4RH4G6",
        "outputId": "8e4e061c-4dad-4c49-8745-70fe4ddae332"
      },
      "execution_count": null,
      "outputs": [
        {
          "output_type": "stream",
          "name": "stderr",
          "text": [
            "<ipython-input-14-0bf0ae503d79>:10: TqdmDeprecationWarning: Please use `tqdm.notebook.trange` instead of `tqdm.tnrange`\n",
            "  for k in tnrange(1,len(X.columns) + 1, desc = 'Loop...'):\n"
          ]
        },
        {
          "output_type": "display_data",
          "data": {
            "text/plain": [
              "Loop...:   0%|          | 0/6 [00:00<?, ?it/s]"
            ],
            "application/vnd.jupyter.widget-view+json": {
              "version_major": 2,
              "version_minor": 0,
              "model_id": "f5ada8efe03244288944c9c3aebaf644"
            }
          },
          "metadata": {}
        }
      ]
    },
    {
      "cell_type": "code",
      "source": [
        "df"
      ],
      "metadata": {
        "colab": {
          "base_uri": "https://localhost:8080/",
          "height": 423
        },
        "id": "jQQTYDDAJKfo",
        "outputId": "e6cfbab7-78f8-4899-9ba4-afaf9e6433f7"
      },
      "execution_count": null,
      "outputs": [
        {
          "output_type": "execute_result",
          "data": {
            "text/plain": [
              "    Number of features                                           Features  \\\n",
              "0                    1                                       (cylinders,)   \n",
              "1                    1                                    (displacement,)   \n",
              "2                    1                                      (horsepower,)   \n",
              "3                    1                                          (weight,)   \n",
              "4                    1                                    (acceleration,)   \n",
              "..                 ...                                                ...   \n",
              "58                   5  (cylinders, displacement, horsepower, accelera...   \n",
              "59                   5  (cylinders, displacement, weight, acceleration...   \n",
              "60                   5  (cylinders, horsepower, weight, acceleration, ...   \n",
              "61                   5  (displacement, horsepower, weight, acceleratio...   \n",
              "62                   6  (cylinders, displacement, horsepower, weight, ...   \n",
              "\n",
              "            BIC            Cp  \n",
              "0   2371.689184   9540.973775  \n",
              "1   2328.180265   8538.654252  \n",
              "2   2374.574015   9611.447310  \n",
              "3   2278.678044   7525.688022  \n",
              "4   2659.378178  19875.663598  \n",
              "..          ...           ...  \n",
              "58  2203.619024   5967.477846  \n",
              "59  2112.140402   4725.439332  \n",
              "60  2113.280849   4739.207079  \n",
              "61  2113.592761   4742.979543  \n",
              "62  2118.087783   4749.327651  \n",
              "\n",
              "[63 rows x 4 columns]"
            ],
            "text/html": [
              "\n",
              "  <div id=\"df-6ae54fa6-2a8b-4373-9fc8-2eb6e46650a2\">\n",
              "    <div class=\"colab-df-container\">\n",
              "      <div>\n",
              "<style scoped>\n",
              "    .dataframe tbody tr th:only-of-type {\n",
              "        vertical-align: middle;\n",
              "    }\n",
              "\n",
              "    .dataframe tbody tr th {\n",
              "        vertical-align: top;\n",
              "    }\n",
              "\n",
              "    .dataframe thead th {\n",
              "        text-align: right;\n",
              "    }\n",
              "</style>\n",
              "<table border=\"1\" class=\"dataframe\">\n",
              "  <thead>\n",
              "    <tr style=\"text-align: right;\">\n",
              "      <th></th>\n",
              "      <th>Number of features</th>\n",
              "      <th>Features</th>\n",
              "      <th>BIC</th>\n",
              "      <th>Cp</th>\n",
              "    </tr>\n",
              "  </thead>\n",
              "  <tbody>\n",
              "    <tr>\n",
              "      <th>0</th>\n",
              "      <td>1</td>\n",
              "      <td>(cylinders,)</td>\n",
              "      <td>2371.689184</td>\n",
              "      <td>9540.973775</td>\n",
              "    </tr>\n",
              "    <tr>\n",
              "      <th>1</th>\n",
              "      <td>1</td>\n",
              "      <td>(displacement,)</td>\n",
              "      <td>2328.180265</td>\n",
              "      <td>8538.654252</td>\n",
              "    </tr>\n",
              "    <tr>\n",
              "      <th>2</th>\n",
              "      <td>1</td>\n",
              "      <td>(horsepower,)</td>\n",
              "      <td>2374.574015</td>\n",
              "      <td>9611.447310</td>\n",
              "    </tr>\n",
              "    <tr>\n",
              "      <th>3</th>\n",
              "      <td>1</td>\n",
              "      <td>(weight,)</td>\n",
              "      <td>2278.678044</td>\n",
              "      <td>7525.688022</td>\n",
              "    </tr>\n",
              "    <tr>\n",
              "      <th>4</th>\n",
              "      <td>1</td>\n",
              "      <td>(acceleration,)</td>\n",
              "      <td>2659.378178</td>\n",
              "      <td>19875.663598</td>\n",
              "    </tr>\n",
              "    <tr>\n",
              "      <th>...</th>\n",
              "      <td>...</td>\n",
              "      <td>...</td>\n",
              "      <td>...</td>\n",
              "      <td>...</td>\n",
              "    </tr>\n",
              "    <tr>\n",
              "      <th>58</th>\n",
              "      <td>5</td>\n",
              "      <td>(cylinders, displacement, horsepower, accelera...</td>\n",
              "      <td>2203.619024</td>\n",
              "      <td>5967.477846</td>\n",
              "    </tr>\n",
              "    <tr>\n",
              "      <th>59</th>\n",
              "      <td>5</td>\n",
              "      <td>(cylinders, displacement, weight, acceleration...</td>\n",
              "      <td>2112.140402</td>\n",
              "      <td>4725.439332</td>\n",
              "    </tr>\n",
              "    <tr>\n",
              "      <th>60</th>\n",
              "      <td>5</td>\n",
              "      <td>(cylinders, horsepower, weight, acceleration, ...</td>\n",
              "      <td>2113.280849</td>\n",
              "      <td>4739.207079</td>\n",
              "    </tr>\n",
              "    <tr>\n",
              "      <th>61</th>\n",
              "      <td>5</td>\n",
              "      <td>(displacement, horsepower, weight, acceleratio...</td>\n",
              "      <td>2113.592761</td>\n",
              "      <td>4742.979543</td>\n",
              "    </tr>\n",
              "    <tr>\n",
              "      <th>62</th>\n",
              "      <td>6</td>\n",
              "      <td>(cylinders, displacement, horsepower, weight, ...</td>\n",
              "      <td>2118.087783</td>\n",
              "      <td>4749.327651</td>\n",
              "    </tr>\n",
              "  </tbody>\n",
              "</table>\n",
              "<p>63 rows × 4 columns</p>\n",
              "</div>\n",
              "      <button class=\"colab-df-convert\" onclick=\"convertToInteractive('df-6ae54fa6-2a8b-4373-9fc8-2eb6e46650a2')\"\n",
              "              title=\"Convert this dataframe to an interactive table.\"\n",
              "              style=\"display:none;\">\n",
              "        \n",
              "  <svg xmlns=\"http://www.w3.org/2000/svg\" height=\"24px\"viewBox=\"0 0 24 24\"\n",
              "       width=\"24px\">\n",
              "    <path d=\"M0 0h24v24H0V0z\" fill=\"none\"/>\n",
              "    <path d=\"M18.56 5.44l.94 2.06.94-2.06 2.06-.94-2.06-.94-.94-2.06-.94 2.06-2.06.94zm-11 1L8.5 8.5l.94-2.06 2.06-.94-2.06-.94L8.5 2.5l-.94 2.06-2.06.94zm10 10l.94 2.06.94-2.06 2.06-.94-2.06-.94-.94-2.06-.94 2.06-2.06.94z\"/><path d=\"M17.41 7.96l-1.37-1.37c-.4-.4-.92-.59-1.43-.59-.52 0-1.04.2-1.43.59L10.3 9.45l-7.72 7.72c-.78.78-.78 2.05 0 2.83L4 21.41c.39.39.9.59 1.41.59.51 0 1.02-.2 1.41-.59l7.78-7.78 2.81-2.81c.8-.78.8-2.07 0-2.86zM5.41 20L4 18.59l7.72-7.72 1.47 1.35L5.41 20z\"/>\n",
              "  </svg>\n",
              "      </button>\n",
              "      \n",
              "  <style>\n",
              "    .colab-df-container {\n",
              "      display:flex;\n",
              "      flex-wrap:wrap;\n",
              "      gap: 12px;\n",
              "    }\n",
              "\n",
              "    .colab-df-convert {\n",
              "      background-color: #E8F0FE;\n",
              "      border: none;\n",
              "      border-radius: 50%;\n",
              "      cursor: pointer;\n",
              "      display: none;\n",
              "      fill: #1967D2;\n",
              "      height: 32px;\n",
              "      padding: 0 0 0 0;\n",
              "      width: 32px;\n",
              "    }\n",
              "\n",
              "    .colab-df-convert:hover {\n",
              "      background-color: #E2EBFA;\n",
              "      box-shadow: 0px 1px 2px rgba(60, 64, 67, 0.3), 0px 1px 3px 1px rgba(60, 64, 67, 0.15);\n",
              "      fill: #174EA6;\n",
              "    }\n",
              "\n",
              "    [theme=dark] .colab-df-convert {\n",
              "      background-color: #3B4455;\n",
              "      fill: #D2E3FC;\n",
              "    }\n",
              "\n",
              "    [theme=dark] .colab-df-convert:hover {\n",
              "      background-color: #434B5C;\n",
              "      box-shadow: 0px 1px 3px 1px rgba(0, 0, 0, 0.15);\n",
              "      filter: drop-shadow(0px 1px 2px rgba(0, 0, 0, 0.3));\n",
              "      fill: #FFFFFF;\n",
              "    }\n",
              "  </style>\n",
              "\n",
              "      <script>\n",
              "        const buttonEl =\n",
              "          document.querySelector('#df-6ae54fa6-2a8b-4373-9fc8-2eb6e46650a2 button.colab-df-convert');\n",
              "        buttonEl.style.display =\n",
              "          google.colab.kernel.accessAllowed ? 'block' : 'none';\n",
              "\n",
              "        async function convertToInteractive(key) {\n",
              "          const element = document.querySelector('#df-6ae54fa6-2a8b-4373-9fc8-2eb6e46650a2');\n",
              "          const dataTable =\n",
              "            await google.colab.kernel.invokeFunction('convertToInteractive',\n",
              "                                                     [key], {});\n",
              "          if (!dataTable) return;\n",
              "\n",
              "          const docLinkHtml = 'Like what you see? Visit the ' +\n",
              "            '<a target=\"_blank\" href=https://colab.research.google.com/notebooks/data_table.ipynb>data table notebook</a>'\n",
              "            + ' to learn more about interactive tables.';\n",
              "          element.innerHTML = '';\n",
              "          dataTable['output_type'] = 'display_data';\n",
              "          await google.colab.output.renderOutput(dataTable, element);\n",
              "          const docLink = document.createElement('div');\n",
              "          docLink.innerHTML = docLinkHtml;\n",
              "          element.appendChild(docLink);\n",
              "        }\n",
              "      </script>\n",
              "    </div>\n",
              "  </div>\n",
              "  "
            ]
          },
          "metadata": {},
          "execution_count": 15
        }
      ]
    },
    {
      "cell_type": "markdown",
      "source": [
        "### **4. [1 pt]** \n",
        "Select the best feature set according to BIC and 𝐶𝑝 criteria.\n"
      ],
      "metadata": {
        "id": "HfUCt10_OG_z"
      }
    },
    {
      "cell_type": "markdown",
      "source": [
        "#### **Get the best set of features basing on BIC and Cp criteria**"
      ],
      "metadata": {
        "id": "pfPXG2S-wCFF"
      }
    },
    {
      "cell_type": "code",
      "source": [
        "best_with_Cp = df[df.Cp == df.Cp.min()]\n",
        "best_with_Cp"
      ],
      "metadata": {
        "colab": {
          "base_uri": "https://localhost:8080/",
          "height": 81
        },
        "id": "9K1u2PlRNcnU",
        "outputId": "b51c7383-e06d-4420-9603-4b9e6542855f"
      },
      "execution_count": null,
      "outputs": [
        {
          "output_type": "execute_result",
          "data": {
            "text/plain": [
              "    Number of features              Features          BIC           Cp\n",
              "19                   2  (weight, model_year)  2097.088386  4687.750142"
            ],
            "text/html": [
              "\n",
              "  <div id=\"df-4d54bd0e-dda3-45f0-863e-2884c4c3a029\">\n",
              "    <div class=\"colab-df-container\">\n",
              "      <div>\n",
              "<style scoped>\n",
              "    .dataframe tbody tr th:only-of-type {\n",
              "        vertical-align: middle;\n",
              "    }\n",
              "\n",
              "    .dataframe tbody tr th {\n",
              "        vertical-align: top;\n",
              "    }\n",
              "\n",
              "    .dataframe thead th {\n",
              "        text-align: right;\n",
              "    }\n",
              "</style>\n",
              "<table border=\"1\" class=\"dataframe\">\n",
              "  <thead>\n",
              "    <tr style=\"text-align: right;\">\n",
              "      <th></th>\n",
              "      <th>Number of features</th>\n",
              "      <th>Features</th>\n",
              "      <th>BIC</th>\n",
              "      <th>Cp</th>\n",
              "    </tr>\n",
              "  </thead>\n",
              "  <tbody>\n",
              "    <tr>\n",
              "      <th>19</th>\n",
              "      <td>2</td>\n",
              "      <td>(weight, model_year)</td>\n",
              "      <td>2097.088386</td>\n",
              "      <td>4687.750142</td>\n",
              "    </tr>\n",
              "  </tbody>\n",
              "</table>\n",
              "</div>\n",
              "      <button class=\"colab-df-convert\" onclick=\"convertToInteractive('df-4d54bd0e-dda3-45f0-863e-2884c4c3a029')\"\n",
              "              title=\"Convert this dataframe to an interactive table.\"\n",
              "              style=\"display:none;\">\n",
              "        \n",
              "  <svg xmlns=\"http://www.w3.org/2000/svg\" height=\"24px\"viewBox=\"0 0 24 24\"\n",
              "       width=\"24px\">\n",
              "    <path d=\"M0 0h24v24H0V0z\" fill=\"none\"/>\n",
              "    <path d=\"M18.56 5.44l.94 2.06.94-2.06 2.06-.94-2.06-.94-.94-2.06-.94 2.06-2.06.94zm-11 1L8.5 8.5l.94-2.06 2.06-.94-2.06-.94L8.5 2.5l-.94 2.06-2.06.94zm10 10l.94 2.06.94-2.06 2.06-.94-2.06-.94-.94-2.06-.94 2.06-2.06.94z\"/><path d=\"M17.41 7.96l-1.37-1.37c-.4-.4-.92-.59-1.43-.59-.52 0-1.04.2-1.43.59L10.3 9.45l-7.72 7.72c-.78.78-.78 2.05 0 2.83L4 21.41c.39.39.9.59 1.41.59.51 0 1.02-.2 1.41-.59l7.78-7.78 2.81-2.81c.8-.78.8-2.07 0-2.86zM5.41 20L4 18.59l7.72-7.72 1.47 1.35L5.41 20z\"/>\n",
              "  </svg>\n",
              "      </button>\n",
              "      \n",
              "  <style>\n",
              "    .colab-df-container {\n",
              "      display:flex;\n",
              "      flex-wrap:wrap;\n",
              "      gap: 12px;\n",
              "    }\n",
              "\n",
              "    .colab-df-convert {\n",
              "      background-color: #E8F0FE;\n",
              "      border: none;\n",
              "      border-radius: 50%;\n",
              "      cursor: pointer;\n",
              "      display: none;\n",
              "      fill: #1967D2;\n",
              "      height: 32px;\n",
              "      padding: 0 0 0 0;\n",
              "      width: 32px;\n",
              "    }\n",
              "\n",
              "    .colab-df-convert:hover {\n",
              "      background-color: #E2EBFA;\n",
              "      box-shadow: 0px 1px 2px rgba(60, 64, 67, 0.3), 0px 1px 3px 1px rgba(60, 64, 67, 0.15);\n",
              "      fill: #174EA6;\n",
              "    }\n",
              "\n",
              "    [theme=dark] .colab-df-convert {\n",
              "      background-color: #3B4455;\n",
              "      fill: #D2E3FC;\n",
              "    }\n",
              "\n",
              "    [theme=dark] .colab-df-convert:hover {\n",
              "      background-color: #434B5C;\n",
              "      box-shadow: 0px 1px 3px 1px rgba(0, 0, 0, 0.15);\n",
              "      filter: drop-shadow(0px 1px 2px rgba(0, 0, 0, 0.3));\n",
              "      fill: #FFFFFF;\n",
              "    }\n",
              "  </style>\n",
              "\n",
              "      <script>\n",
              "        const buttonEl =\n",
              "          document.querySelector('#df-4d54bd0e-dda3-45f0-863e-2884c4c3a029 button.colab-df-convert');\n",
              "        buttonEl.style.display =\n",
              "          google.colab.kernel.accessAllowed ? 'block' : 'none';\n",
              "\n",
              "        async function convertToInteractive(key) {\n",
              "          const element = document.querySelector('#df-4d54bd0e-dda3-45f0-863e-2884c4c3a029');\n",
              "          const dataTable =\n",
              "            await google.colab.kernel.invokeFunction('convertToInteractive',\n",
              "                                                     [key], {});\n",
              "          if (!dataTable) return;\n",
              "\n",
              "          const docLinkHtml = 'Like what you see? Visit the ' +\n",
              "            '<a target=\"_blank\" href=https://colab.research.google.com/notebooks/data_table.ipynb>data table notebook</a>'\n",
              "            + ' to learn more about interactive tables.';\n",
              "          element.innerHTML = '';\n",
              "          dataTable['output_type'] = 'display_data';\n",
              "          await google.colab.output.renderOutput(dataTable, element);\n",
              "          const docLink = document.createElement('div');\n",
              "          docLink.innerHTML = docLinkHtml;\n",
              "          element.appendChild(docLink);\n",
              "        }\n",
              "      </script>\n",
              "    </div>\n",
              "  </div>\n",
              "  "
            ]
          },
          "metadata": {},
          "execution_count": 16
        }
      ]
    },
    {
      "cell_type": "code",
      "source": [
        "best_with_BIC = df[df.BIC == df.BIC.min()]\n",
        "best_with_BIC"
      ],
      "metadata": {
        "colab": {
          "base_uri": "https://localhost:8080/",
          "height": 81
        },
        "id": "jOfpLA-iQJ28",
        "outputId": "32176bfe-0d65-423a-d541-d7ad5280f3ca"
      },
      "execution_count": null,
      "outputs": [
        {
          "output_type": "execute_result",
          "data": {
            "text/plain": [
              "    Number of features              Features          BIC           Cp\n",
              "19                   2  (weight, model_year)  2097.088386  4687.750142"
            ],
            "text/html": [
              "\n",
              "  <div id=\"df-826f486e-3760-4c96-a1f2-0a68cdbf8b07\">\n",
              "    <div class=\"colab-df-container\">\n",
              "      <div>\n",
              "<style scoped>\n",
              "    .dataframe tbody tr th:only-of-type {\n",
              "        vertical-align: middle;\n",
              "    }\n",
              "\n",
              "    .dataframe tbody tr th {\n",
              "        vertical-align: top;\n",
              "    }\n",
              "\n",
              "    .dataframe thead th {\n",
              "        text-align: right;\n",
              "    }\n",
              "</style>\n",
              "<table border=\"1\" class=\"dataframe\">\n",
              "  <thead>\n",
              "    <tr style=\"text-align: right;\">\n",
              "      <th></th>\n",
              "      <th>Number of features</th>\n",
              "      <th>Features</th>\n",
              "      <th>BIC</th>\n",
              "      <th>Cp</th>\n",
              "    </tr>\n",
              "  </thead>\n",
              "  <tbody>\n",
              "    <tr>\n",
              "      <th>19</th>\n",
              "      <td>2</td>\n",
              "      <td>(weight, model_year)</td>\n",
              "      <td>2097.088386</td>\n",
              "      <td>4687.750142</td>\n",
              "    </tr>\n",
              "  </tbody>\n",
              "</table>\n",
              "</div>\n",
              "      <button class=\"colab-df-convert\" onclick=\"convertToInteractive('df-826f486e-3760-4c96-a1f2-0a68cdbf8b07')\"\n",
              "              title=\"Convert this dataframe to an interactive table.\"\n",
              "              style=\"display:none;\">\n",
              "        \n",
              "  <svg xmlns=\"http://www.w3.org/2000/svg\" height=\"24px\"viewBox=\"0 0 24 24\"\n",
              "       width=\"24px\">\n",
              "    <path d=\"M0 0h24v24H0V0z\" fill=\"none\"/>\n",
              "    <path d=\"M18.56 5.44l.94 2.06.94-2.06 2.06-.94-2.06-.94-.94-2.06-.94 2.06-2.06.94zm-11 1L8.5 8.5l.94-2.06 2.06-.94-2.06-.94L8.5 2.5l-.94 2.06-2.06.94zm10 10l.94 2.06.94-2.06 2.06-.94-2.06-.94-.94-2.06-.94 2.06-2.06.94z\"/><path d=\"M17.41 7.96l-1.37-1.37c-.4-.4-.92-.59-1.43-.59-.52 0-1.04.2-1.43.59L10.3 9.45l-7.72 7.72c-.78.78-.78 2.05 0 2.83L4 21.41c.39.39.9.59 1.41.59.51 0 1.02-.2 1.41-.59l7.78-7.78 2.81-2.81c.8-.78.8-2.07 0-2.86zM5.41 20L4 18.59l7.72-7.72 1.47 1.35L5.41 20z\"/>\n",
              "  </svg>\n",
              "      </button>\n",
              "      \n",
              "  <style>\n",
              "    .colab-df-container {\n",
              "      display:flex;\n",
              "      flex-wrap:wrap;\n",
              "      gap: 12px;\n",
              "    }\n",
              "\n",
              "    .colab-df-convert {\n",
              "      background-color: #E8F0FE;\n",
              "      border: none;\n",
              "      border-radius: 50%;\n",
              "      cursor: pointer;\n",
              "      display: none;\n",
              "      fill: #1967D2;\n",
              "      height: 32px;\n",
              "      padding: 0 0 0 0;\n",
              "      width: 32px;\n",
              "    }\n",
              "\n",
              "    .colab-df-convert:hover {\n",
              "      background-color: #E2EBFA;\n",
              "      box-shadow: 0px 1px 2px rgba(60, 64, 67, 0.3), 0px 1px 3px 1px rgba(60, 64, 67, 0.15);\n",
              "      fill: #174EA6;\n",
              "    }\n",
              "\n",
              "    [theme=dark] .colab-df-convert {\n",
              "      background-color: #3B4455;\n",
              "      fill: #D2E3FC;\n",
              "    }\n",
              "\n",
              "    [theme=dark] .colab-df-convert:hover {\n",
              "      background-color: #434B5C;\n",
              "      box-shadow: 0px 1px 3px 1px rgba(0, 0, 0, 0.15);\n",
              "      filter: drop-shadow(0px 1px 2px rgba(0, 0, 0, 0.3));\n",
              "      fill: #FFFFFF;\n",
              "    }\n",
              "  </style>\n",
              "\n",
              "      <script>\n",
              "        const buttonEl =\n",
              "          document.querySelector('#df-826f486e-3760-4c96-a1f2-0a68cdbf8b07 button.colab-df-convert');\n",
              "        buttonEl.style.display =\n",
              "          google.colab.kernel.accessAllowed ? 'block' : 'none';\n",
              "\n",
              "        async function convertToInteractive(key) {\n",
              "          const element = document.querySelector('#df-826f486e-3760-4c96-a1f2-0a68cdbf8b07');\n",
              "          const dataTable =\n",
              "            await google.colab.kernel.invokeFunction('convertToInteractive',\n",
              "                                                     [key], {});\n",
              "          if (!dataTable) return;\n",
              "\n",
              "          const docLinkHtml = 'Like what you see? Visit the ' +\n",
              "            '<a target=\"_blank\" href=https://colab.research.google.com/notebooks/data_table.ipynb>data table notebook</a>'\n",
              "            + ' to learn more about interactive tables.';\n",
              "          element.innerHTML = '';\n",
              "          dataTable['output_type'] = 'display_data';\n",
              "          await google.colab.output.renderOutput(dataTable, element);\n",
              "          const docLink = document.createElement('div');\n",
              "          docLink.innerHTML = docLinkHtml;\n",
              "          element.appendChild(docLink);\n",
              "        }\n",
              "      </script>\n",
              "    </div>\n",
              "  </div>\n",
              "  "
            ]
          },
          "metadata": {},
          "execution_count": 17
        }
      ]
    },
    {
      "cell_type": "markdown",
      "source": [
        "#### **Answer**\n",
        "*The BIC score is identical to Mallows Cp except that it puts a more severe penalty for complexity.* (as in Wasserman’s “All of Statistics”, p. 221).\n",
        "Hence, if we choose the best set of features base on BIC and Mallow Cp with the minimum values, they both give the same result. The set of **weight** and **model_year** is the best feature set.\n",
        "\n",
        "\n"
      ],
      "metadata": {
        "id": "UFIc6KoRQliA"
      }
    },
    {
      "cell_type": "markdown",
      "source": [
        "### **5. ** \n",
        "Split data randomly into two datasets: train (80% of data points) and test (20% of original \n",
        "dataset). Train a simple linear regression model based on each of the best feature sets from \n",
        "questions 1b, 2 and 4. Then, compare their performance on both training and test datasets and \n",
        "plot a grouped bar chart where:\n",
        "> \n",
        "a. x-axis represents different feature sets;\n",
        ">\n",
        "b. y-axis depicts model quality measured by RSS;\n",
        "> \n",
        "c. color (hue) encodes dataset used (train or test).\n"
      ],
      "metadata": {
        "id": "KqFPgizMRrDT"
      }
    },
    {
      "cell_type": "markdown",
      "source": [
        "#### **Traning the set of best features**"
      ],
      "metadata": {
        "id": "zqHNg6mawQdD"
      }
    },
    {
      "cell_type": "code",
      "source": [
        "from sklearn.model_selection import train_test_split\n",
        "from sklearn.metrics import mean_squared_error\n",
        "\n",
        "X_train, X_test, y_train, y_test = train_test_split(X, y, test_size=0.2)"
      ],
      "metadata": {
        "id": "sEWeElKGQiKb"
      },
      "execution_count": null,
      "outputs": []
    },
    {
      "cell_type": "code",
      "source": [
        "# I got the same set of features in problem 2, 4\n",
        "feature_set_1b = ['weight', 'acceleration', 'model_year']\n",
        "feature_set_2 = ['weight', 'model_year']\n",
        "feature_set_4 = ['weight', 'model_year']"
      ],
      "metadata": {
        "id": "00YnXogGHQ2n"
      },
      "execution_count": null,
      "outputs": []
    },
    {
      "cell_type": "code",
      "source": [
        "feature_sets = []\n",
        "rss = []\n",
        "type_of_data = []\n",
        "rss_mean = []\n",
        "\n",
        "def train_simple_linear_regression(X_train_, y_train_, X_test_, y_test_, feature_set):\n",
        "  X_train_const = sm.add_constant(X_train_[feature_set])\n",
        "  X_test_const = sm.add_constant(X_test_[feature_set])\n",
        "  model = sm.OLS(endog=y_train_, exog=X_train_const, hasconst=True).fit()\n",
        "  # Get the predict values\n",
        "  y_test_predict = model.predict(X_test_const)\n",
        "\n",
        "  # Get the residuals\n",
        "  resid_test = y_test_.sub(y_test_predict, axis=0)\n",
        "\n",
        "  # Get the residual sum of squares (RSS)\n",
        "  rss_train = model.ssr\n",
        "  rss_test = float((resid_test ** 2).sum())\n",
        "  \n",
        "  # Get the mean value of RSS:\n",
        "  rss_train_mean = rss_train / len(y_train_)\n",
        "  rss_test_mean = rss_test / len(y_test_)\n",
        "\n",
        "  # Information to plot the bar chart:\n",
        "  s = \", \".join(feature_set)\n",
        "  feature_sets.extend([s, s])\n",
        "  rss.extend([rss_train, rss_test])\n",
        "  rss_mean.extend([rss_train_mean, rss_test_mean])\n",
        "  type_of_data.extend([\"train\", \"test\"])\n",
        "\n",
        "  return rss_train, rss_test"
      ],
      "metadata": {
        "id": "-kRM5m8JJcUw"
      },
      "execution_count": null,
      "outputs": []
    },
    {
      "cell_type": "code",
      "source": [
        "# Result for set of best features in 1b: 'weight','acceleration', 'model_year'\n",
        "result1 = train_simple_linear_regression(X_train, y_train, X_test, y_test, feature_set_1b)\n",
        "print(\"RSS for training data:\", result1[0])\n",
        "print(\"RSS for testing data:\", result1[1])"
      ],
      "metadata": {
        "colab": {
          "base_uri": "https://localhost:8080/"
        },
        "id": "wHa8tx1QeAmc",
        "outputId": "165d9e4b-ae90-45ce-b8ee-be430913efe8"
      },
      "execution_count": null,
      "outputs": [
        {
          "output_type": "stream",
          "name": "stdout",
          "text": [
            "RSS for training data: 3883.4948547745284\n",
            "RSS for testing data: 754.9016013590298\n"
          ]
        }
      ]
    },
    {
      "cell_type": "code",
      "source": [
        "# Result for set of best features in 2 and 4: 'weight', 'model_year'\n",
        "result2 = train_simple_linear_regression(X_train, y_train, X_test, y_test, feature_set_2)\n",
        "print(\"RSS for training data:\", result2[0])\n",
        "print(\"RSS for testing data:\", result2[1])"
      ],
      "metadata": {
        "colab": {
          "base_uri": "https://localhost:8080/"
        },
        "id": "EVpX7m8realz",
        "outputId": "e072391a-601b-4ce5-dc31-cc1a6a502d6e"
      },
      "execution_count": null,
      "outputs": [
        {
          "output_type": "stream",
          "name": "stdout",
          "text": [
            "RSS for training data: 3931.7607101013473\n",
            "RSS for testing data: 705.1626415096854\n"
          ]
        }
      ]
    },
    {
      "cell_type": "markdown",
      "source": [
        "#### **Plot the bar chart**\n"
      ],
      "metadata": {
        "id": "ysK4US-DwVcH"
      }
    },
    {
      "cell_type": "code",
      "source": [
        "df = pd.DataFrame({'Features': feature_sets, 'RSS': rss, \"RSS mean\": rss_mean, 'Type': type_of_data})"
      ],
      "metadata": {
        "id": "wekNaLKBqzdy"
      },
      "execution_count": null,
      "outputs": []
    },
    {
      "cell_type": "code",
      "source": [
        "df"
      ],
      "metadata": {
        "colab": {
          "base_uri": "https://localhost:8080/",
          "height": 175
        },
        "id": "h2lt1oPLlNf3",
        "outputId": "a5bc0970-059b-4a0e-cd2e-960ab2f71eea"
      },
      "execution_count": null,
      "outputs": [
        {
          "output_type": "execute_result",
          "data": {
            "text/plain": [
              "                           Features          RSS   RSS mean   Type\n",
              "0  weight, acceleration, model_year  3883.494855  12.407332  train\n",
              "1  weight, acceleration, model_year   754.901601   9.555716   test\n",
              "2                weight, model_year  3931.760710  12.561536  train\n",
              "3                weight, model_year   705.162642   8.926109   test"
            ],
            "text/html": [
              "\n",
              "  <div id=\"df-c624a7a7-add2-424b-ac99-1de5ecea13c8\">\n",
              "    <div class=\"colab-df-container\">\n",
              "      <div>\n",
              "<style scoped>\n",
              "    .dataframe tbody tr th:only-of-type {\n",
              "        vertical-align: middle;\n",
              "    }\n",
              "\n",
              "    .dataframe tbody tr th {\n",
              "        vertical-align: top;\n",
              "    }\n",
              "\n",
              "    .dataframe thead th {\n",
              "        text-align: right;\n",
              "    }\n",
              "</style>\n",
              "<table border=\"1\" class=\"dataframe\">\n",
              "  <thead>\n",
              "    <tr style=\"text-align: right;\">\n",
              "      <th></th>\n",
              "      <th>Features</th>\n",
              "      <th>RSS</th>\n",
              "      <th>RSS mean</th>\n",
              "      <th>Type</th>\n",
              "    </tr>\n",
              "  </thead>\n",
              "  <tbody>\n",
              "    <tr>\n",
              "      <th>0</th>\n",
              "      <td>weight, acceleration, model_year</td>\n",
              "      <td>3883.494855</td>\n",
              "      <td>12.407332</td>\n",
              "      <td>train</td>\n",
              "    </tr>\n",
              "    <tr>\n",
              "      <th>1</th>\n",
              "      <td>weight, acceleration, model_year</td>\n",
              "      <td>754.901601</td>\n",
              "      <td>9.555716</td>\n",
              "      <td>test</td>\n",
              "    </tr>\n",
              "    <tr>\n",
              "      <th>2</th>\n",
              "      <td>weight, model_year</td>\n",
              "      <td>3931.760710</td>\n",
              "      <td>12.561536</td>\n",
              "      <td>train</td>\n",
              "    </tr>\n",
              "    <tr>\n",
              "      <th>3</th>\n",
              "      <td>weight, model_year</td>\n",
              "      <td>705.162642</td>\n",
              "      <td>8.926109</td>\n",
              "      <td>test</td>\n",
              "    </tr>\n",
              "  </tbody>\n",
              "</table>\n",
              "</div>\n",
              "      <button class=\"colab-df-convert\" onclick=\"convertToInteractive('df-c624a7a7-add2-424b-ac99-1de5ecea13c8')\"\n",
              "              title=\"Convert this dataframe to an interactive table.\"\n",
              "              style=\"display:none;\">\n",
              "        \n",
              "  <svg xmlns=\"http://www.w3.org/2000/svg\" height=\"24px\"viewBox=\"0 0 24 24\"\n",
              "       width=\"24px\">\n",
              "    <path d=\"M0 0h24v24H0V0z\" fill=\"none\"/>\n",
              "    <path d=\"M18.56 5.44l.94 2.06.94-2.06 2.06-.94-2.06-.94-.94-2.06-.94 2.06-2.06.94zm-11 1L8.5 8.5l.94-2.06 2.06-.94-2.06-.94L8.5 2.5l-.94 2.06-2.06.94zm10 10l.94 2.06.94-2.06 2.06-.94-2.06-.94-.94-2.06-.94 2.06-2.06.94z\"/><path d=\"M17.41 7.96l-1.37-1.37c-.4-.4-.92-.59-1.43-.59-.52 0-1.04.2-1.43.59L10.3 9.45l-7.72 7.72c-.78.78-.78 2.05 0 2.83L4 21.41c.39.39.9.59 1.41.59.51 0 1.02-.2 1.41-.59l7.78-7.78 2.81-2.81c.8-.78.8-2.07 0-2.86zM5.41 20L4 18.59l7.72-7.72 1.47 1.35L5.41 20z\"/>\n",
              "  </svg>\n",
              "      </button>\n",
              "      \n",
              "  <style>\n",
              "    .colab-df-container {\n",
              "      display:flex;\n",
              "      flex-wrap:wrap;\n",
              "      gap: 12px;\n",
              "    }\n",
              "\n",
              "    .colab-df-convert {\n",
              "      background-color: #E8F0FE;\n",
              "      border: none;\n",
              "      border-radius: 50%;\n",
              "      cursor: pointer;\n",
              "      display: none;\n",
              "      fill: #1967D2;\n",
              "      height: 32px;\n",
              "      padding: 0 0 0 0;\n",
              "      width: 32px;\n",
              "    }\n",
              "\n",
              "    .colab-df-convert:hover {\n",
              "      background-color: #E2EBFA;\n",
              "      box-shadow: 0px 1px 2px rgba(60, 64, 67, 0.3), 0px 1px 3px 1px rgba(60, 64, 67, 0.15);\n",
              "      fill: #174EA6;\n",
              "    }\n",
              "\n",
              "    [theme=dark] .colab-df-convert {\n",
              "      background-color: #3B4455;\n",
              "      fill: #D2E3FC;\n",
              "    }\n",
              "\n",
              "    [theme=dark] .colab-df-convert:hover {\n",
              "      background-color: #434B5C;\n",
              "      box-shadow: 0px 1px 3px 1px rgba(0, 0, 0, 0.15);\n",
              "      filter: drop-shadow(0px 1px 2px rgba(0, 0, 0, 0.3));\n",
              "      fill: #FFFFFF;\n",
              "    }\n",
              "  </style>\n",
              "\n",
              "      <script>\n",
              "        const buttonEl =\n",
              "          document.querySelector('#df-c624a7a7-add2-424b-ac99-1de5ecea13c8 button.colab-df-convert');\n",
              "        buttonEl.style.display =\n",
              "          google.colab.kernel.accessAllowed ? 'block' : 'none';\n",
              "\n",
              "        async function convertToInteractive(key) {\n",
              "          const element = document.querySelector('#df-c624a7a7-add2-424b-ac99-1de5ecea13c8');\n",
              "          const dataTable =\n",
              "            await google.colab.kernel.invokeFunction('convertToInteractive',\n",
              "                                                     [key], {});\n",
              "          if (!dataTable) return;\n",
              "\n",
              "          const docLinkHtml = 'Like what you see? Visit the ' +\n",
              "            '<a target=\"_blank\" href=https://colab.research.google.com/notebooks/data_table.ipynb>data table notebook</a>'\n",
              "            + ' to learn more about interactive tables.';\n",
              "          element.innerHTML = '';\n",
              "          dataTable['output_type'] = 'display_data';\n",
              "          await google.colab.output.renderOutput(dataTable, element);\n",
              "          const docLink = document.createElement('div');\n",
              "          docLink.innerHTML = docLinkHtml;\n",
              "          element.appendChild(docLink);\n",
              "        }\n",
              "      </script>\n",
              "    </div>\n",
              "  </div>\n",
              "  "
            ]
          },
          "metadata": {},
          "execution_count": 70
        }
      ]
    },
    {
      "cell_type": "code",
      "source": [
        "sns.barplot(data=df, x=\"Features\", y=\"RSS\", hue=\"Type\")"
      ],
      "metadata": {
        "colab": {
          "base_uri": "https://localhost:8080/",
          "height": 468
        },
        "id": "Hx6TmdX-jKAi",
        "outputId": "8b6092fc-6a46-4dde-9089-d35d6a9d6e2b"
      },
      "execution_count": null,
      "outputs": [
        {
          "output_type": "execute_result",
          "data": {
            "text/plain": [
              "<Axes: xlabel='Features', ylabel='RSS'>"
            ]
          },
          "metadata": {},
          "execution_count": 73
        },
        {
          "output_type": "display_data",
          "data": {
            "text/plain": [
              "<Figure size 640x480 with 1 Axes>"
            ],
            "image/png": "[encoded data removed]"
          },
          "metadata": {}
        }
      ]
    },
    {
      "cell_type": "markdown",
      "source": [
        "###**6. **### \n",
        " Interpret obtained results\n",
        "> \n",
        "a. Which dataset gives the smallest error (RSS) on the test set?\n",
        ">\n",
        "b. How do errors on test and training datasets differ from each other (and do they)? What \n",
        "does it mean?\n",
        "> \n",
        "c. What else can you mention about the models and the best set of features?\n"
      ],
      "metadata": {
        "id": "H8M-DJSpwSRM"
      }
    },
    {
      "cell_type": "code",
      "source": [
        "sns.barplot(data=df, x=\"Features\", y=\"RSS mean\", hue=\"Type\")"
      ],
      "metadata": {
        "colab": {
          "base_uri": "https://localhost:8080/",
          "height": 468
        },
        "id": "gPtS1GpbsjPe",
        "outputId": "b7ce80a2-36d1-4d30-f6cd-e590bd167cd0"
      },
      "execution_count": null,
      "outputs": [
        {
          "output_type": "execute_result",
          "data": {
            "text/plain": [
              "<Axes: xlabel='Features', ylabel='RSS mean'>"
            ]
          },
          "metadata": {},
          "execution_count": 72
        },
        {
          "output_type": "display_data",
          "data": {
            "text/plain": [
              "<Figure size 640x480 with 1 Axes>"
            ],
            "image/png": "[encoded data removed]"
          },
          "metadata": {}
        }
      ]
    },
    {
      "cell_type": "markdown",
      "source": [
        "#### **Answer**\n",
        "#### **a.**\n",
        "Base on the bar chart about RSS, we can see that both feature sets give almost the same values for RSS, but it seems the set which contains **weight** and **model_year** gives the smaller RSS on the test set (but not significantly). The main idea is that **weight** and **model_year** are two main features that give a good predict on this dataset.\n",
        "#### **b.**\n",
        "If we take the mean value of RSS on the training dataset and testing dataset (the above plot), the mean value of training dataset will be less then the testing dataset (the ratio of RSS of training and testing < 4). It is pretty fine and obvious to see, since we train our model on the training data, so the model will fit well on training dataset. The result on training dataset will give a better result and smaller mean of RSS than on the testing dataset.\n",
        ">\n",
        "Usually, when consider the performance of model, we need to consider its performance on testing dataset. In our case, **weight** and **model_year** gave smaller RSS on testing dataset (but not significantly).\n",
        "#### **c.**\n",
        "In my solution, it seems like three ways of choosing the best features: based on correlation matrix, based on p-values from t-tests and based on BIC, Cp values seem that they all give the same set of best features: **weight** and **model_year**. The model of the best set performs much more better then the model which applies to all the features (because of a strong multicollinearity in the original dataset)\n",
        ">=> Feature selection is very important when working on linear regression model.\n",
        "\n",
        "\n"
      ],
      "metadata": {
        "id": "nhb8KtU8zc0a"
      }
    },
    {
      "cell_type": "markdown",
      "source": [
        "###**7. **### \n",
        "Select the model trained on full dataset using the best feature set obtained with BIC \n",
        "criterion. Plot a series of scatter plots with y-axis depicting residuals of the models and x-axis \n",
        "representing one of the selected features in the set (i.e., number of plots = cardinality of the \n",
        "feature set). Interpret the results. Is linear model a good model for the data?\n"
      ],
      "metadata": {
        "id": "z6BCngah6UIG"
      }
    },
    {
      "cell_type": "markdown",
      "source": [
        "#### **Train on full dataset using the best feature set obtained with BIC criterion**\n"
      ],
      "metadata": {
        "id": "4b4vdHckC4kD"
      }
    },
    {
      "cell_type": "code",
      "source": [
        "def estimate_new_model(X_new, y_new, feature_list):\n",
        "  X_add_const_new = sm.add_constant(X_new[feature_list])\n",
        "\n",
        "  new_model = sm.OLS(endog=y_new, exog=X_add_const_new, hasconst=True).fit()\n",
        "  new_residuals = new_model.resid\n",
        "\n",
        "  fig, ax= plt.subplots(ncols=len(feature_list), figsize=(14, 5))\n",
        "\n",
        "# Plot the residual\n",
        "  for i in range(len(feature_list)):\n",
        "    ax[i].set_ylabel('residuals')\n",
        "    ax[i].axhline(0, c=\"red\")\n",
        "    sns.scatterplot(x=X_new[feature_list[i]], y=new_residuals, ax=ax[i])\n",
        "\n",
        "# Plot the target \n",
        "  fig, ax= plt.subplots(ncols=len(feature_list), figsize=(14, 5))\n",
        "  for i in range(len(feature_list)):\n",
        "    sns.scatterplot(x=X_new[feature_list[i]], y=y_new[\"mpg\"], ax=ax[i], color=\"green\")\n",
        "\n",
        "  plt.show()\n",
        "  return new_model.bic, new_model.ssr"
      ],
      "metadata": {
        "id": "jBoZL3u0gHrE"
      },
      "execution_count": null,
      "outputs": []
    },
    {
      "cell_type": "code",
      "source": [
        "feature_set_bic = ['weight', 'model_year']\n",
        "estimate_new_model(X, y, feature_set_bic)"
      ],
      "metadata": {
        "colab": {
          "base_uri": "https://localhost:8080/",
          "height": 858
        },
        "id": "AeB5j8CpgT1Z",
        "outputId": "813b8968-55a9-4f87-f020-23dfd6184ea1"
      },
      "execution_count": null,
      "outputs": [
        {
          "output_type": "display_data",
          "data": {
            "text/plain": [
              "<Figure size 1400x500 with 2 Axes>"
            ],
            "image/png": "[encoded data removed]"
          },
          "metadata": {}
        },
        {
          "output_type": "display_data",
          "data": {
            "text/plain": [
              "<Figure size 1400x500 with 2 Axes>"
            ],
            "image/png": "[encoded data removed]"
          },
          "metadata": {}
        },
        {
          "output_type": "execute_result",
          "data": {
            "text/plain": [
              "(2097.0883859054175, 4616.54381027555)"
            ]
          },
          "metadata": {},
          "execution_count": 142
        }
      ]
    },
    {
      "cell_type": "markdown",
      "source": [
        "#### **Answer**\n",
        "All the residual values they look somehow randomly scattered around zero, but if we consider carefully, we recognize that they are not really independent, they follow some trends (higher value on the boundaries and smaller value in the middle for feature \"weight\"). It means that this model is quite good, but we can find a better and more accurate model, which makes scatter plot more random.\n",
        "\n",
        "\n",
        "\n"
      ],
      "metadata": {
        "id": "AuV_vPSMFaYf"
      }
    },
    {
      "cell_type": "markdown",
      "source": [
        "###**8. ***### \n",
        "Make similar plots but with target on y-axis. Make suggestions on new transformed\n",
        "features (or target transformation) that may be helpful to create better predictive model. \n",
        "Prepare these features and make a new linear regression over these features, compute BIC of \n",
        "the new model and compare it to the best model (according to BIC criterion) from question 4. \n",
        "Plot residuals vs covariate scatter plots (as in question 7). Interpret the results\n"
      ],
      "metadata": {
        "id": "mGkxyw5TIQGn"
      }
    },
    {
      "cell_type": "code",
      "source": [
        "fig, (ax1, ax2)= plt.subplots(ncols=2, figsize=(14, 5))\n",
        "ax1 = sns.scatterplot(x=X['weight'], y=y['mpg'], ax=ax1)\n",
        "ax2 = sns.scatterplot(x=X['model_year'], y=y['mpg'], ax=ax2)\n",
        "\n",
        "plt.show()"
      ],
      "metadata": {
        "colab": {
          "base_uri": "https://localhost:8080/",
          "height": 465
        },
        "outputId": "03972cff-c865-4861-f65e-f74a3844c732",
        "id": "ilqmbfTEIoJX"
      },
      "execution_count": null,
      "outputs": [
        {
          "output_type": "display_data",
          "data": {
            "text/plain": [
              "<Figure size 1400x500 with 2 Axes>"
            ],
            "image/png": "[encoded data removed]"
          },
          "metadata": {}
        }
      ]
    },
    {
      "cell_type": "markdown",
      "source": [
        "#### **Use the natural logarithm for features**"
      ],
      "metadata": {
        "id": "ADEfkQvCTvYt"
      }
    },
    {
      "cell_type": "code",
      "source": [
        "feature_set_new = ['weight', 'model_year']\n",
        "y_new = y\n",
        "X_new = np.log(X)\n",
        "\n",
        "(new_bic, new_rss) = estimate_new_model(X_new, y_new, feature_set_new)\n",
        "print(\"BIC value obtained using BIC criteria:\", model_bic.bic)\n",
        "print(\"RSS value obtained using BIC criteria:\", model_bic.ssr)\n",
        "print(\"New BIC value:\", new_bic)\n",
        "print(\"New RSS value:\", new_rss)\n"
      ],
      "metadata": {
        "id": "lWHJCh_DIrek",
        "colab": {
          "base_uri": "https://localhost:8080/",
          "height": 907
        },
        "outputId": "617d1049-719a-4dbb-ebe6-261b2daf82e4"
      },
      "execution_count": null,
      "outputs": [
        {
          "output_type": "display_data",
          "data": {
            "text/plain": [
              "<Figure size 1400x500 with 2 Axes>"
            ],
            "image/png": "[encoded data removed]"
          },
          "metadata": {}
        },
        {
          "output_type": "display_data",
          "data": {
            "text/plain": [
              "<Figure size 1400x500 with 2 Axes>"
            ],
            "image/png": "[encoded data removed]"
          },
          "metadata": {}
        },
        {
          "output_type": "stream",
          "name": "stdout",
          "text": [
            "BIC value obtained using BIC criteria: 2097.0883859054175\n",
            "RSS value obtained using BIC criteria: 4616.54381027555\n",
            "New BIC value: 2031.5155015779283\n",
            "New RSS value: 3905.4326303495604\n"
          ]
        }
      ]
    },
    {
      "cell_type": "markdown",
      "source": [
        "#### **Answer**\n",
        "I keep the set of features the same as what i obtained in problem 1.4: **model_year** and **weight**. I also make a new transformation on this feature set by taking the natural logarithm. The result has been improved:\n",
        "* The BIC value and RSS value are getting smaller, RSS value decreases almost 20%. \n",
        "* In the residuals scatter plots, the points now are more randomly scattered around 0\n",
        "\n",
        "> => This linear regression model is better then the best model (according to BIC criterion) from question 4.\n",
        "\n",
        "I thought that it is still not the best linear regression model ever for this dataset, but the result has been improved. The main idea is that choosing a suitable transformation on the features or even on the target will give us a better and more accurate result.\n",
        "\n",
        "\n",
        "\n"
      ],
      "metadata": {
        "id": "kiDSkC0IcAN4"
      }
    }
  ]
}
